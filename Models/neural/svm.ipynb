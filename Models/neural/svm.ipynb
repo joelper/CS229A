{
 "cells": [
  {
   "cell_type": "code",
   "execution_count": 1,
   "metadata": {
    "collapsed": true
   },
   "outputs": [],
   "source": [
    "import sys\n",
    "import os\n",
    "\n",
    "module_path = os.path.abspath(os.path.join(os.pardir, os.pardir))\n",
    "if module_path not in sys.path:\n",
    "    sys.path.append(module_path)"
   ]
  },
  {
   "cell_type": "code",
   "execution_count": 2,
   "metadata": {
    "collapsed": true
   },
   "outputs": [],
   "source": [
    "import Preprocessing.preprocessing as pp\n",
    "import numpy as np\n",
    "from sklearn.linear_model import LogisticRegression\n",
    "import matplotlib.pyplot as plt\n",
    "import pylab\n",
    "import math\n",
    "import Preprocessing.image_processing as ip"
   ]
  },
  {
   "cell_type": "code",
   "execution_count": 3,
   "metadata": {
    "collapsed": true
   },
   "outputs": [],
   "source": [
    "import tensorflow as tf"
   ]
  },
  {
   "cell_type": "code",
   "execution_count": 4,
   "metadata": {
    "collapsed": true
   },
   "outputs": [],
   "source": [
    " from sklearn.svm import LinearSVC\n",
    "from sklearn.preprocessing import StandardScaler"
   ]
  },
  {
   "cell_type": "markdown",
   "metadata": {},
   "source": [
    "Load in the data from a csv of pixel data, and a csv of labels"
   ]
  },
  {
   "cell_type": "code",
   "execution_count": 5,
   "metadata": {
    "collapsed": true
   },
   "outputs": [],
   "source": [
    "train_csv_x = '/Users/connieli/Documents/229a/Data/train_images.csv'\n",
    "train_csv_y = '/Users/connieli/Documents/229a/Data/train_labels.csv'\n",
    "\n",
    "X, Y = pp.load_XY(train_csv_x, train_csv_y)"
   ]
  },
  {
   "cell_type": "markdown",
   "metadata": {},
   "source": [
    "Reshape the $Y$ vector (works better during the fitting)"
   ]
  },
  {
   "cell_type": "markdown",
   "metadata": {},
   "source": [
    "Load the validation set"
   ]
  },
  {
   "cell_type": "code",
   "execution_count": 6,
   "metadata": {
    "collapsed": true
   },
   "outputs": [],
   "source": [
    "val_csv_x = '/Users/connieli/Documents/229a/Data/val_images.csv'\n",
    "val_csv_y = '/Users/connieli/Documents/229a/Data/val_labels.csv'\n",
    "X_val, Y_val = pp.load_XY(val_csv_x, val_csv_y)"
   ]
  },
  {
   "cell_type": "markdown",
   "metadata": {},
   "source": [
    "## SVM"
   ]
  },
  {
   "cell_type": "code",
   "execution_count": 7,
   "metadata": {
    "collapsed": true
   },
   "outputs": [],
   "source": [
    "Ycol = Y[:,1]\n",
    "Y_valcol = Y_val[:,1]"
   ]
  },
  {
   "cell_type": "code",
   "execution_count": 45,
   "metadata": {},
   "outputs": [
    {
     "data": {
      "text/plain": [
       "0.62716666666666665"
      ]
     },
     "execution_count": 45,
     "metadata": {},
     "output_type": "execute_result"
    }
   ],
   "source": [
    "# Ycol = Y[:,1]\n",
    "# svmodel = LinearSVC(penalty='l2', loss='squared_hinge', dual=True, C=0.3, multi_class='ovr', fit_intercept=True, intercept_scaling=1, class_weight=None, verbose=0, random_state=None, max_iter=10)\n",
    "# svmodel.fit(X, Ycol)\n",
    "# svmodel.score(X, Ycol)"
   ]
  },
  {
   "cell_type": "code",
   "execution_count": 46,
   "metadata": {},
   "outputs": [
    {
     "data": {
      "text/plain": [
       "0.56299999999999994"
      ]
     },
     "execution_count": 46,
     "metadata": {},
     "output_type": "execute_result"
    }
   ],
   "source": [
    "# Y_valcol = Y_val[:,1]\n",
    "# svmodel.score(X_val, Y_valcol)"
   ]
  },
  {
   "cell_type": "code",
   "execution_count": 8,
   "metadata": {
    "collapsed": true
   },
   "outputs": [],
   "source": [
    "scaler = StandardScaler()\n",
    "scaler.fit(X)\n",
    "X_scaled = scaler.transform(X)\n",
    "X_val_scaled = scaler.transform(X_val)"
   ]
  },
  {
   "cell_type": "markdown",
   "metadata": {},
   "source": [
    "### Unscaled SVM"
   ]
  },
  {
   "cell_type": "code",
   "execution_count": 86,
   "metadata": {
    "collapsed": true
   },
   "outputs": [],
   "source": [
    "Cs = [0.1, 0.15, 0.2, 0.25, 0.3, 0.35, 0.4, 0.45, 0.5, 0.55, 0.6, 0.65, 0.7, 0.75, 0.8, 0.85, 0.9, 0.95, 1.0 ]\n",
    "Ycol = Y[:,1]\n",
    "Y_valcol = Y_val[:,1]\n",
    "\n",
    "svm_train_score = np.zeros(len(Cs))\n",
    "svm_val_score = np.zeros(len(Cs))\n",
    "\n",
    "for i in range(len(Cs)):\n",
    "    currC = Cs[i]\n",
    "    svmodel = LinearSVC(penalty='l2', loss='squared_hinge', dual=True, C=currC, multi_class='ovr', fit_intercept=True, intercept_scaling=1, class_weight=None, verbose=0, random_state=None, max_iter=10)\n",
    "    svmodel.fit(X, Ycol)\n",
    "    svm_train_score[i] = svmodel.score(X, Ycol)\n",
    "    svm_val_score[i] = svmodel.score(X_val, Y_valcol)\n"
   ]
  },
  {
   "cell_type": "code",
   "execution_count": 88,
   "metadata": {},
   "outputs": [
    {
     "data": {
      "image/png": "[encoded data removed]",
      "text/plain": [
       "<matplotlib.figure.Figure at 0x14b758c50>"
      ]
     },
     "metadata": {},
     "output_type": "display_data"
    }
   ],
   "source": [
    "plt.plot(Cs, svm_val_score,'r', label=\"val score\")\n",
    "plt.plot(Cs, svm_train_score, 'b', label=\"train score\")\n",
    "plt.title(\"C vs accuracy\")\n",
    "plt.legend()\n",
    "plt.show()"
   ]
  },
  {
   "cell_type": "code",
   "execution_count": 90,
   "metadata": {},
   "outputs": [
    {
     "data": {
      "text/plain": [
       "array([ 0.6005    ,  0.60533333,  0.46933333,  0.85016667,  0.83      ,\n",
       "        0.83466667,  0.77716667,  0.80983333,  0.83666667,  0.4265    ,\n",
       "        0.60183333,  0.69333333,  0.6225    ,  0.8645    ,  0.71966667,\n",
       "        0.8025    ,  0.73333333,  0.649     ,  0.5715    ])"
      ]
     },
     "execution_count": 90,
     "metadata": {},
     "output_type": "execute_result"
    }
   ],
   "source": [
    "svm_train_score"
   ]
  },
  {
   "cell_type": "markdown",
   "metadata": {},
   "source": [
    "### Scaled SVM"
   ]
  },
  {
   "cell_type": "code",
   "execution_count": null,
   "metadata": {
    "collapsed": true
   },
   "outputs": [],
   "source": [
    "Cs = [0.1, 0.15, 0.2, 0.25, 0.3, 0.35, 0.4, 0.45, 0.5, 0.55, 0.6, 0.65, 0.7, 0.75, 0.8, 0.85, 0.9, 0.95, 1.0 ]\n",
    "Ycol = Y[:,1]\n",
    "Y_valcol = Y_val[:,1]\n",
    "\n",
    "svm_train_score = np.zeros(len(Cs))\n",
    "svm_val_score = np.zeros(len(Cs))\n",
    "for i in range(len(Cs)):\n",
    "    currC = Cs[i]\n",
    "    svmodel = LinearSVC(penalty='l2', loss='squared_hinge', dual=True, C=currC, multi_class='ovr', fit_intercept=True, intercept_scaling=1, class_weight=None, verbose=0, random_state=None, max_iter=10)\n",
    "    svmodel.fit(X_scaled, Ycol)\n",
    "    svm_train_score[i] = svmodel.score(X_scaled, Ycol)\n",
    "    svm_val_score[i] = svmodel.score(X_val_scaled, Y_valcol)"
   ]
  },
  {
   "cell_type": "code",
   "execution_count": 75,
   "metadata": {},
   "outputs": [
    {
     "data": {
      "image/png": "[encoded data removed]",
      "text/plain": [
       "<matplotlib.figure.Figure at 0x14b76ff10>"
      ]
     },
     "metadata": {},
     "output_type": "display_data"
    }
   ],
   "source": [
    "plt.plot(Cs, svm_val_score,'r', label=\"val score\")\n",
    "plt.plot(Cs, svm_train_score, 'b', label=\"train score\")\n",
    "plt.title(\"C vs accuracy\")\n",
    "plt.legend()\n",
    "plt.show()"
   ]
  },
  {
   "cell_type": "code",
   "execution_count": 79,
   "metadata": {},
   "outputs": [
    {
     "data": {
      "text/plain": [
       "0.96699999999999997"
      ]
     },
     "execution_count": 79,
     "metadata": {},
     "output_type": "execute_result"
    }
   ],
   "source": [
    "svm_train_score[7]\n",
    "# svm_val_score[7]"
   ]
  },
  {
   "cell_type": "markdown",
   "metadata": {},
   "source": [
    "### Train on 96x96 images"
   ]
  },
  {
   "cell_type": "markdown",
   "metadata": {},
   "source": [
    "Fit a logistic regression to the data"
   ]
  },
  {
   "cell_type": "code",
   "execution_count": 19,
   "metadata": {},
   "outputs": [
    {
     "name": "stderr",
     "output_type": "stream",
     "text": [
      "/anaconda3/lib/python3.6/site-packages/sklearn/utils/validation.py:578: DataConversionWarning: A column-vector y was passed when a 1d array was expected. Please change the shape of y to (n_samples, ), for example using ravel().\n",
      "  y = column_or_1d(y, warn=True)\n"
     ]
    }
   ],
   "source": [
    "clf = LogisticRegression(random_state=0, solver='lbfgs', multi_class='multinomial').fit(X, Y)"
   ]
  },
  {
   "cell_type": "markdown",
   "metadata": {},
   "source": [
    "Predict on the training data to calculate the accuracy (not the final evaluation metric for models)"
   ]
  },
  {
   "cell_type": "code",
   "execution_count": 25,
   "metadata": {
    "collapsed": true
   },
   "outputs": [],
   "source": [
    "y_pred_train = clf.predict(X)"
   ]
  },
  {
   "cell_type": "code",
   "execution_count": 27,
   "metadata": {},
   "outputs": [
    {
     "name": "stdout",
     "output_type": "stream",
     "text": [
      "Accruacy on train set:  0.9236666666666666\n"
     ]
    }
   ],
   "source": [
    "print(\"Accruacy on train set: \",1 - np.mean(np.abs(y_pred_train-Y.T)))"
   ]
  },
  {
   "cell_type": "markdown",
   "metadata": {},
   "source": [
    "Predict on the validation data set"
   ]
  },
  {
   "cell_type": "code",
   "execution_count": 29,
   "metadata": {
    "collapsed": true
   },
   "outputs": [],
   "source": [
    "y_pred_val = clf.predict(X_val)"
   ]
  },
  {
   "cell_type": "code",
   "execution_count": 30,
   "metadata": {},
   "outputs": [
    {
     "name": "stdout",
     "output_type": "stream",
     "text": [
      "Accruacy on validation set:  0.5880000000000001\n"
     ]
    }
   ],
   "source": [
    "print(\"Accruacy on validation set: \",1 - np.mean(np.abs(y_pred_val-Y_val.T)))"
   ]
  },
  {
   "cell_type": "markdown",
   "metadata": {},
   "source": [
    "We can see that unregularized logistic regression performs poorly out of sample which is expected considering the input has $\\approx 27,000$ features but we train it on $6,000$ examples which in turn creates problems of overfitting to the training data. Below we try different values of regularization and compare how that affects performance on both the training and the validation set."
   ]
  },
  {
   "cell_type": "code",
   "execution_count": 68,
   "metadata": {
    "collapsed": true
   },
   "outputs": [],
   "source": [
    "reg = [np.exp(-i) for i in range(0, 30, 2)]\n",
    "reg = sorted(reg)"
   ]
  },
  {
   "cell_type": "code",
   "execution_count": 69,
   "metadata": {},
   "outputs": [
    {
     "name": "stdout",
     "output_type": "stream",
     "text": [
      "0\n",
      "1\n",
      "2\n",
      "3\n",
      "4\n",
      "5\n",
      "6\n",
      "7\n",
      "8\n",
      "9\n",
      "10\n",
      "11\n",
      "12\n",
      "13\n",
      "14\n"
     ]
    }
   ],
   "source": [
    "acc_train = []\n",
    "acc_val = []\n",
    "for i, c_i in enumerate(reg):\n",
    "    print(i)\n",
    "    # fit a logistic regression using regularization c_i\n",
    "    clf = LogisticRegression(random_state=0, solver='lbfgs', C=c_i, multi_class='multinomial').fit(X, Y)\n",
    "    # evaluate accuracy on the training set\n",
    "    y_pred_train = clf.predict(X)\n",
    "    acc_train.append(1 - np.mean(np.abs(y_pred_train-Y.T)))\n",
    "    # evaluate accuracy on the validation set\n",
    "    y_pred_val = clf.predict(X_val)\n",
    "    acc_val.append(1 - np.mean(np.abs(y_pred_val-Y_val.T)))"
   ]
  },
  {
   "cell_type": "code",
   "execution_count": 78,
   "metadata": {},
   "outputs": [
    {
     "data": {
      "image/png": "[encoded data removed]",
      "text/plain": [
       "<matplotlib.figure.Figure at 0x1a17d70b38>"
      ]
     },
     "metadata": {},
     "output_type": "display_data"
    }
   ],
   "source": [
    "plt.plot(np.array(reg), np.array(acc_train),'r')\n",
    "plt.plot(np.array(reg), np.array(acc_val), 'b')\n",
    "plt.xscale('log')\n",
    "plt.show()"
   ]
  },
  {
   "cell_type": "code",
   "execution_count": null,
   "metadata": {
    "collapsed": true
   },
   "outputs": [],
   "source": []
  }
 ],
 "metadata": {
  "kernelspec": {
   "display_name": "Python 2",
   "language": "python",
   "name": "python2"
  },
  "language_info": {
   "codemirror_mode": {
    "name": "ipython",
    "version": 2
   },
   "file_extension": ".py",
   "mimetype": "text/x-python",
   "name": "python",
   "nbconvert_exporter": "python",
   "pygments_lexer": "ipython2",
   "version": "2.7.3"
  }
 },
 "nbformat": 4,
 "nbformat_minor": 2
}
