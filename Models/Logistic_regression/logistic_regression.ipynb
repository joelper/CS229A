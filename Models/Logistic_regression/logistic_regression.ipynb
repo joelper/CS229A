{
 "cells": [
  {
   "cell_type": "code",
   "execution_count": 5,
   "metadata": {},
   "outputs": [],
   "source": [
    "import sys\n",
    "import os\n",
    "\n",
    "module_path = os.path.abspath(os.path.join(os.pardir, os.pardir))\n",
    "if module_path not in sys.path:\n",
    "    sys.path.append(module_path)"
   ]
  },
  {
   "cell_type": "code",
   "execution_count": 117,
   "metadata": {},
   "outputs": [],
   "source": [
    "import Preprocessing.preprocessing as pp\n",
    "import numpy as np\n",
    "from sklearn.linear_model import LogisticRegression\n",
    "import matplotlib.pyplot as plt\n",
    "import pylab\n",
    "import math\n",
    "import Preprocessing.image_processing as ip\n",
    "import sklearn.metrics as metrics"
   ]
  },
  {
   "cell_type": "markdown",
   "metadata": {},
   "source": [
    "Load in the data from a csv of pixel data, and a csv of labels"
   ]
  },
  {
   "cell_type": "code",
   "execution_count": 8,
   "metadata": {},
   "outputs": [],
   "source": [
    "train_csv_x = '/Users/joelpersson/Documents/GitHub/CS229A/Data/train_images.csv'\n",
    "train_csv_y = '/Users/joelpersson/Documents/GitHub//CS229A/Data/train_labels.csv'\n",
    "\n",
    "X, Y = pp.load_XY(train_csv_x, train_csv_y)"
   ]
  },
  {
   "cell_type": "markdown",
   "metadata": {},
   "source": [
    "Reshape the $Y$ vector (works better during the fitting)"
   ]
  },
  {
   "cell_type": "code",
   "execution_count": 57,
   "metadata": {},
   "outputs": [],
   "source": [
    "Y = Y.reshape(-1)"
   ]
  },
  {
   "cell_type": "markdown",
   "metadata": {},
   "source": [
    "Load the validation set"
   ]
  },
  {
   "cell_type": "code",
   "execution_count": 28,
   "metadata": {},
   "outputs": [],
   "source": [
    "val_csv_x = '/Users/joelpersson/Documents/GitHub/CS229A/Data/val_images.csv'\n",
    "val_csv_y = '/Users/joelpersson/Documents/GitHub//CS229A/Data/val_labels.csv'\n",
    "\n",
    "X_val, Y_val = pp.load_XY(val_csv_x, val_csv_y)"
   ]
  },
  {
   "cell_type": "markdown",
   "metadata": {},
   "source": [
    "### Train on 96x96 images"
   ]
  },
  {
   "cell_type": "markdown",
   "metadata": {},
   "source": [
    "Fit a logistic regression to the data"
   ]
  },
  {
   "cell_type": "code",
   "execution_count": 19,
   "metadata": {},
   "outputs": [
    {
     "name": "stderr",
     "output_type": "stream",
     "text": [
      "/anaconda3/lib/python3.6/site-packages/sklearn/utils/validation.py:578: DataConversionWarning: A column-vector y was passed when a 1d array was expected. Please change the shape of y to (n_samples, ), for example using ravel().\n",
      "  y = column_or_1d(y, warn=True)\n"
     ]
    }
   ],
   "source": [
    "clf = LogisticRegression(random_state=0, solver='lbfgs', multi_class='multinomial').fit(X, Y)"
   ]
  },
  {
   "cell_type": "markdown",
   "metadata": {},
   "source": [
    "Predict on the training data to calculate the accuracy (not the final evaluation metric for models)"
   ]
  },
  {
   "cell_type": "code",
   "execution_count": 25,
   "metadata": {},
   "outputs": [],
   "source": [
    "y_pred_train = clf.predict(X)"
   ]
  },
  {
   "cell_type": "code",
   "execution_count": 89,
   "metadata": {},
   "outputs": [
    {
     "name": "stdout",
     "output_type": "stream",
     "text": [
      "Accuracy on train set:  0.9236666666666666\n"
     ]
    }
   ],
   "source": [
    "print(\"Accuracy on train set: \",1 - np.mean(np.abs(y_pred_train-Y.T)))"
   ]
  },
  {
   "cell_type": "markdown",
   "metadata": {},
   "source": [
    "Predict on the validation data set"
   ]
  },
  {
   "cell_type": "code",
   "execution_count": 29,
   "metadata": {},
   "outputs": [],
   "source": [
    "y_pred_val = clf.predict(X_val)"
   ]
  },
  {
   "cell_type": "code",
   "execution_count": 90,
   "metadata": {},
   "outputs": [
    {
     "name": "stdout",
     "output_type": "stream",
     "text": [
      "Accuracy on validation set:  0.5880000000000001\n"
     ]
    }
   ],
   "source": [
    "print(\"Accuracy on validation set: \",1 - np.mean(np.abs(y_pred_val-Y_val.T)))"
   ]
  },
  {
   "cell_type": "markdown",
   "metadata": {},
   "source": [
    "We can see that unregularized logistic regression performs poorly out of sample which is expected considering the input has $\\approx 27,000$ features but we train it on $6,000$ examples which in turn creates problems of overfitting to the training data. Below we try different values of regularization and compare how that affects performance on both the training and the validation set."
   ]
  },
  {
   "cell_type": "code",
   "execution_count": 97,
   "metadata": {},
   "outputs": [],
   "source": [
    "reg = [np.exp(-i) for i in range(-10, 30, 2)]\n",
    "reg = sorted(reg)"
   ]
  },
  {
   "cell_type": "code",
   "execution_count": 120,
   "metadata": {},
   "outputs": [
    {
     "name": "stdout",
     "output_type": "stream",
     "text": [
      "0\n",
      "1\n",
      "2\n",
      "3\n",
      "4\n",
      "5\n",
      "6\n",
      "7\n",
      "8\n",
      "9\n",
      "10\n",
      "11\n",
      "12\n",
      "13\n",
      "14\n",
      "15\n",
      "16\n",
      "17\n",
      "18\n",
      "19\n"
     ]
    }
   ],
   "source": [
    "acc_train = []\n",
    "acc_val = []\n",
    "auc_train = []\n",
    "auc_val = []\n",
    "for i, c_i in enumerate(reg):\n",
    "    print(i)\n",
    "    # fit a logistic regression using regularization c_i\n",
    "    clf = LogisticRegression(random_state=0, solver='lbfgs', C=c_i, multi_class='multinomial').fit(X, Y)\n",
    "    # evaluate accuracy and AUROC score on the training set\n",
    "    y_pred_train = clf.predict(X)\n",
    "    proba_train = clf.predict_proba(X)[:,1]\n",
    "    acc_train.append(1 - np.mean(np.abs(y_pred_train-Y.T)))\n",
    "    auc_train.append(metrics.roc_auc_score(Y, proba_train))\n",
    "    # evaluate accuracy on the validation set\n",
    "    y_pred_val = clf.predict(X_val)\n",
    "    proba_val = clf.predict_proba(X_val)[:,1]\n",
    "    acc_val.append(1 - np.mean(np.abs(y_pred_val-Y_val.T)))\n",
    "    auc_val.append(metrics.roc_auc_score(Y_val, proba_val))"
   ]
  },
  {
   "cell_type": "code",
   "execution_count": 129,
   "metadata": {},
   "outputs": [
    {
     "data": {
      "image/png": "[encoded data removed]",
      "text/plain": [
       "<matplotlib.figure.Figure at 0x1a183b9f60>"
      ]
     },
     "metadata": {},
     "output_type": "display_data"
    }
   ],
   "source": [
    "plt.title('Accuracy vs regularization parameter')\n",
    "plt.plot(np.array(reg), np.array(acc_train),'r')\n",
    "plt.plot(np.array(reg), np.array(acc_val), 'b')\n",
    "plt.xscale('log')\n",
    "plt.show()"
   ]
  },
  {
   "cell_type": "code",
   "execution_count": 121,
   "metadata": {},
   "outputs": [
    {
     "name": "stdout",
     "output_type": "stream",
     "text": [
      "Highest accuracy:  0.616\n",
      "Highest AUROC:  0.6677722277722278\n",
      "The optimal regularization value is:  2.061153622438558e-09\n"
     ]
    }
   ],
   "source": [
    "print(\"Highest accuracy: \", np.max(acc_val))\n",
    "print(\"Highest AUROC: \", np.max(auc_val))\n",
    "print(\"The optimal regularization value is: \", reg[np.argmax(auc_val)])"
   ]
  },
  {
   "cell_type": "code",
   "execution_count": 122,
   "metadata": {},
   "outputs": [],
   "source": [
    "clf = LogisticRegression(random_state=0, solver='lbfgs', C=reg[np.argmax(auc_val)], multi_class='multinomial').fit(X, Y)\n",
    "probs = clf.predict_proba(X_val)[:,1]\n",
    "\n",
    "fpr, tpr, threshold = metrics.roc_curve(Y_val, probs)\n",
    "roc_auc = metrics.auc(fpr, tpr)"
   ]
  },
  {
   "cell_type": "code",
   "execution_count": 123,
   "metadata": {},
   "outputs": [
    {
     "data": {
      "image/png": "[encoded data removed]",
      "text/plain": [
       "<matplotlib.figure.Figure at 0x10c023470>"
      ]
     },
     "metadata": {},
     "output_type": "display_data"
    }
   ],
   "source": [
    "plt.title('Receiver Operating Characteristic')\n",
    "plt.plot(fpr, tpr, 'b', label = 'AUC = %0.2f' % roc_auc)\n",
    "plt.legend(loc = 'lower right')\n",
    "plt.plot([0, 1], [0, 1],'r--')\n",
    "plt.xlim([0, 1])\n",
    "plt.ylim([0, 1])\n",
    "plt.ylabel('True Positive Rate')\n",
    "plt.xlabel('False Positive Rate')\n",
    "plt.show()"
   ]
  },
  {
   "cell_type": "markdown",
   "metadata": {},
   "source": [
    "### Train on 32x32 images\n",
    "Start by converting the $96\\times96$ images to $32\\times32$."
   ]
  },
  {
   "cell_type": "code",
   "execution_count": 81,
   "metadata": {},
   "outputs": [],
   "source": [
    "n = 32\n",
    "X_32 = np.zeros((X.shape[0], n*n*3))\n",
    "X_val_32 = np.zeros((X_val.shape[0], n*n*3))"
   ]
  },
  {
   "cell_type": "code",
   "execution_count": 85,
   "metadata": {},
   "outputs": [],
   "source": [
    "for i in range(X.shape[0]):\n",
    "    X_32[i] = ip.crop_center(X[i,:], (96,96,3), 32)\n",
    "\n",
    "for j in range(X_val.shape[0]):\n",
    "    X_val_32[j] = ip.crop_center(X_val[j,:], (96,96,3), 32)"
   ]
  },
  {
   "cell_type": "markdown",
   "metadata": {},
   "source": [
    "Fit a logistic regression to the center $32\\times32$ pixels."
   ]
  },
  {
   "cell_type": "code",
   "execution_count": 77,
   "metadata": {},
   "outputs": [],
   "source": [
    "clf_32 = LogisticRegression(random_state=0, solver='lbfgs', multi_class='multinomial').fit(X_32, Y)"
   ]
  },
  {
   "cell_type": "code",
   "execution_count": 79,
   "metadata": {},
   "outputs": [],
   "source": [
    "y_pred_train_32 = clf_32.predict(X_32)"
   ]
  },
  {
   "cell_type": "code",
   "execution_count": 91,
   "metadata": {},
   "outputs": [
    {
     "name": "stdout",
     "output_type": "stream",
     "text": [
      "Accuracy on train set:  0.7391666666666667\n"
     ]
    }
   ],
   "source": [
    "print(\"Accuracy on train set: \",1 - np.mean(np.abs(y_pred_train_32-Y.T)))"
   ]
  },
  {
   "cell_type": "markdown",
   "metadata": {},
   "source": [
    "Predict on the validation set."
   ]
  },
  {
   "cell_type": "code",
   "execution_count": 87,
   "metadata": {},
   "outputs": [],
   "source": [
    "y_pred_val_32 = clf_32.predict(X_val_32)"
   ]
  },
  {
   "cell_type": "code",
   "execution_count": 92,
   "metadata": {},
   "outputs": [
    {
     "name": "stdout",
     "output_type": "stream",
     "text": [
      "Accuracy on validation set:  0.5954999999999999\n"
     ]
    }
   ],
   "source": [
    "print(\"Accuracy on validation set: \",1 - np.mean(np.abs(y_pred_val_32-Y_val.T)))"
   ]
  },
  {
   "cell_type": "markdown",
   "metadata": {},
   "source": [
    "Train the model for multiple values of the regularization parameter."
   ]
  },
  {
   "cell_type": "code",
   "execution_count": 124,
   "metadata": {},
   "outputs": [
    {
     "name": "stdout",
     "output_type": "stream",
     "text": [
      "0\n",
      "1\n",
      "2\n",
      "3\n",
      "4\n",
      "5\n",
      "6\n",
      "7\n",
      "8\n",
      "9\n",
      "10\n",
      "11\n",
      "12\n",
      "13\n",
      "14\n",
      "15\n",
      "16\n",
      "17\n",
      "18\n",
      "19\n"
     ]
    }
   ],
   "source": [
    "acc_train_32 = []\n",
    "acc_val_32 = []\n",
    "auc_train_32 = []\n",
    "auc_val_32 = []\n",
    "for i, c_i in enumerate(reg):\n",
    "    print(i)\n",
    "    # fit a logistic regression using regularization c_i\n",
    "    clf_32 = LogisticRegression(random_state=0, solver='lbfgs', C=c_i, multi_class='multinomial').fit(X_32, Y)\n",
    "    # evaluate accuracy on the training set\n",
    "    y_pred_train_32 = clf_32.predict(X_32)\n",
    "    proba_train_32 = clf_32.predict_proba(X_32)[:,1]\n",
    "    acc_train_32.append(1 - np.mean(np.abs(y_pred_train_32-Y.T)))\n",
    "    auc_train_32.append(metrics.roc_auc_score(Y, proba_train_32))\n",
    "    # evaluate accuracy on the validation set\n",
    "    y_pred_val_32 = clf_32.predict(X_val_32)\n",
    "    proba_val_32 = clf_32.predict_proba(X_val_32)[:,1]\n",
    "    acc_val_32.append(1 - np.mean(np.abs(y_pred_val_32-Y_val.T)))\n",
    "    auc_val_32.append(metrics.roc_auc_score(Y_val, proba_val_32))"
   ]
  },
  {
   "cell_type": "code",
   "execution_count": 128,
   "metadata": {},
   "outputs": [
    {
     "data": {
      "image/png": "[encoded data removed]",
      "text/plain": [
       "<matplotlib.figure.Figure at 0x1a17ba91d0>"
      ]
     },
     "metadata": {},
     "output_type": "display_data"
    }
   ],
   "source": [
    "plt.title('Accuracy vs regularization parameter')\n",
    "plt.plot(np.array(reg), np.array(acc_train_32),'r')\n",
    "plt.plot(np.array(reg), np.array(acc_val_32), 'b')\n",
    "plt.xscale('log')\n",
    "plt.show()"
   ]
  },
  {
   "cell_type": "code",
   "execution_count": 125,
   "metadata": {},
   "outputs": [
    {
     "name": "stdout",
     "output_type": "stream",
     "text": [
      "Highest accuracy:  0.6134999999999999\n",
      "Highest AUROC:  0.6608243039012269\n",
      "The optimal regularization value is:  1.522997974471263e-08\n"
     ]
    }
   ],
   "source": [
    "print(\"Highest accuracy: \", np.max(acc_val_32))\n",
    "print(\"Highest AUROC: \", np.max(auc_val_32))\n",
    "print(\"The optimal regularization value is: \", reg[np.argmax(auc_val_32)])"
   ]
  },
  {
   "cell_type": "code",
   "execution_count": 126,
   "metadata": {},
   "outputs": [],
   "source": [
    "clf_32 = LogisticRegression(random_state=0, solver='lbfgs', C=reg[np.argmax(auc_val_32)], multi_class='multinomial').fit(X_32, Y)\n",
    "probs_32 = clf_32.predict_proba(X_val_32)[:,1]\n",
    "\n",
    "fpr_32, tpr_32, threshold_32 = metrics.roc_curve(Y_val, probs_32)\n",
    "roc_auc_32 = metrics.auc(fpr_32, tpr_32)"
   ]
  },
  {
   "cell_type": "code",
   "execution_count": 127,
   "metadata": {},
   "outputs": [
    {
     "data": {
      "image/png": "[encoded data removed]",
      "text/plain": [
       "<matplotlib.figure.Figure at 0x10bedb898>"
      ]
     },
     "metadata": {},
     "output_type": "display_data"
    }
   ],
   "source": [
    "plt.title('Receiver Operating Characteristic')\n",
    "plt.plot(fpr_32, tpr_32, 'b', label = 'AUC = %0.2f' % roc_auc_32)\n",
    "plt.legend(loc = 'lower right')\n",
    "plt.plot([0, 1], [0, 1],'r--')\n",
    "plt.xlim([0, 1])\n",
    "plt.ylim([0, 1])\n",
    "plt.ylabel('True Positive Rate')\n",
    "plt.xlabel('False Positive Rate')\n",
    "plt.show()"
   ]
  },
  {
   "cell_type": "markdown",
   "metadata": {},
   "source": [
    "## Results\n",
    "A logistic regression model using the full scale images performs better out-of-sample than a model using only the center of the image. However, neither model is close to the leaderboard scores on Kaggle (around 0.95 compared to 0.66-0.67 for our models). Below we perform some error analysis in order to get a better understanding of how we can potentially improve the performance."
   ]
  },
  {
   "cell_type": "markdown",
   "metadata": {},
   "source": [
    "First we look at how the performance of the model behaves when we increase the size of the training data:"
   ]
  },
  {
   "cell_type": "code",
   "execution_count": 138,
   "metadata": {},
   "outputs": [],
   "source": [
    "acc_train_32_ea = []\n",
    "acc_val_32_ea = []\n",
    "auc_train_32_ea = []\n",
    "auc_val_32_ea = []\n",
    "c = reg[np.argmax(auc_val_32)]\n",
    "for i in range(10,X.shape[0]+11, 100):\n",
    "    # fit a logistic regression using regularization c\n",
    "    clf = LogisticRegression(random_state=0, solver='lbfgs', C=c, multi_class='multinomial').fit(X_32[:i], Y[:i])\n",
    "    # evaluate accuracy and AUROC score on the training set\n",
    "    y_pred_train = clf.predict(X_32[:i])\n",
    "    proba_train = clf.predict_proba(X_32[:i])[:,1]\n",
    "    acc_train_32_ea.append(1 - np.mean(np.abs(y_pred_train-Y[:i].T)))\n",
    "    auc_train_32_ea.append(metrics.roc_auc_score(Y[:i], proba_train))\n",
    "    # evaluate accuracy on the validation set\n",
    "    y_pred_val = clf.predict(X_val_32)\n",
    "    proba_val = clf.predict_proba(X_val_32)[:,1]\n",
    "    acc_val_32_ea.append(1 - np.mean(np.abs(y_pred_val-Y_val.T)))\n",
    "    auc_val_32_ea.append(metrics.roc_auc_score(Y_val, proba_val))"
   ]
  },
  {
   "cell_type": "code",
   "execution_count": 139,
   "metadata": {},
   "outputs": [
    {
     "data": {
      "image/png": "[encoded data removed]",
      "text/plain": [
       "<matplotlib.figure.Figure at 0x10f9a1d30>"
      ]
     },
     "metadata": {},
     "output_type": "display_data"
    }
   ],
   "source": [
    "plt.title('Accuracy vs training size')\n",
    "plt.plot(np.arange(10,X.shape[0]+11, 100), np.array(acc_train_32_ea),'r')\n",
    "plt.plot(np.arange(10,X.shape[0]+11, 100), np.array(acc_val_32_ea), 'b')\n",
    "plt.show()"
   ]
  },
  {
   "cell_type": "code",
   "execution_count": 140,
   "metadata": {},
   "outputs": [
    {
     "data": {
      "image/png": "[encoded data removed]",
      "text/plain": [
       "<matplotlib.figure.Figure at 0x1a18173668>"
      ]
     },
     "metadata": {},
     "output_type": "display_data"
    }
   ],
   "source": [
    "plt.title('AUROC vs training size')\n",
    "plt.plot(np.arange(10,X.shape[0]+11, 100), np.array(auc_train_32_ea),'r')\n",
    "plt.plot(np.arange(10,X.shape[0]+11, 100), np.array(auc_val_32_ea), 'b')\n",
    "plt.show()"
   ]
  },
  {
   "cell_type": "code",
   "execution_count": null,
   "metadata": {},
   "outputs": [],
   "source": []
  }
 ],
 "metadata": {
  "kernelspec": {
   "display_name": "Python 3",
   "language": "python",
   "name": "python3"
  },
  "language_info": {
   "codemirror_mode": {
    "name": "ipython",
    "version": 3
   },
   "file_extension": ".py",
   "mimetype": "text/x-python",
   "name": "python",
   "nbconvert_exporter": "python",
   "pygments_lexer": "ipython3",
   "version": "3.6.4"
  }
 },
 "nbformat": 4,
 "nbformat_minor": 2
}
