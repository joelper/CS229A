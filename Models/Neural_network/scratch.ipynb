{
 "cells": [
  {
   "cell_type": "code",
   "execution_count": 5,
   "metadata": {},
   "outputs": [],
   "source": [
    "import sys\n",
    "import os\n",
    "\n",
    "module_path = os.path.abspath(os.path.join(os.pardir, os.pardir))\n",
    "if module_path not in sys.path:\n",
    "    sys.path.append(module_path)"
   ]
  },
  {
   "cell_type": "code",
   "execution_count": 6,
   "metadata": {},
   "outputs": [],
   "source": [
    "import Preprocessing.preprocessing as pp\n",
    "import numpy as np\n",
    "from sklearn.linear_model import LogisticRegression\n",
    "import matplotlib.pyplot as plt\n",
    "import pylab\n",
    "import math\n",
    "import Preprocessing.image_processing as ip\n",
    "import sklearn.metrics as metrics\n",
    "from sklearn import preprocessing"
   ]
  },
  {
   "cell_type": "code",
   "execution_count": 3,
   "metadata": {},
   "outputs": [
    {
     "name": "stderr",
     "output_type": "stream",
     "text": [
      "Using TensorFlow backend.\n"
     ]
    }
   ],
   "source": [
    "import tensorflow as tf\n",
    "import keras as ks"
   ]
  },
  {
   "cell_type": "markdown",
   "metadata": {},
   "source": [
    "Import the data"
   ]
  },
  {
   "cell_type": "code",
   "execution_count": 7,
   "metadata": {},
   "outputs": [],
   "source": [
    "train_csv_x = '/Users/joelpersson/Documents/GitHub/CS229A/Data/train_images.csv'\n",
    "train_csv_y = '/Users/joelpersson/Documents/GitHub//CS229A/Data/train_labels.csv'\n",
    "\n",
    "X, Y = pp.load_XY(train_csv_x, train_csv_y)"
   ]
  },
  {
   "cell_type": "markdown",
   "metadata": {},
   "source": [
    "Build the neural net"
   ]
  },
  {
   "cell_type": "code",
   "execution_count": 66,
   "metadata": {},
   "outputs": [],
   "source": [
    "# Define the neural network\n",
    "def neural_net_binary(n_hidden_1, n_hidden_2, n_hidden_3):\n",
    "    # Build the model\n",
    "    model = ks.Sequential()\n",
    "    # Normalize the input\n",
    "    model.add(ks.layers.BatchNormalization())\n",
    "    # Add hidden layers\n",
    "    model.add(ks.layers.Dense(n_hidden_1, activation='sigmoid'))\n",
    "    model.add(ks.layers.Dense(n_hidden_2, activation='sigmoid'))\n",
    "    model.add(ks.layers.Dense(n_hidden_3, activation='sigmoid'))\n",
    "    # Add output node\n",
    "    model.add(ks.layers.Dense(1, activation='sigmoid'))\n",
    "    \n",
    "    return model"
   ]
  },
  {
   "cell_type": "markdown",
   "metadata": {},
   "source": [
    "Define the layer structure"
   ]
  },
  {
   "cell_type": "code",
   "execution_count": 67,
   "metadata": {},
   "outputs": [],
   "source": [
    "out = neural_net_binary(256, 128, 32)"
   ]
  },
  {
   "cell_type": "markdown",
   "metadata": {},
   "source": [
    "Define optimizer, loss and evaluation metric"
   ]
  },
  {
   "cell_type": "code",
   "execution_count": 26,
   "metadata": {},
   "outputs": [],
   "source": [
    "def auc(y_true, y_pred):\n",
    "    auc = tf.metrics.auc(y_true, y_pred)[1]\n",
    "    ks.backend.get_session().run(tf.local_variables_initializer())\n",
    "    return auc"
   ]
  },
  {
   "cell_type": "code",
   "execution_count": 68,
   "metadata": {},
   "outputs": [],
   "source": [
    "out.compile(optimizer='adam', \n",
    "              loss='binary_crossentropy',\n",
    "              metrics=[auc, 'accuracy'])"
   ]
  },
  {
   "cell_type": "markdown",
   "metadata": {},
   "source": [
    "Train the model"
   ]
  },
  {
   "cell_type": "code",
   "execution_count": 69,
   "metadata": {},
   "outputs": [
    {
     "name": "stdout",
     "output_type": "stream",
     "text": [
      "Epoch 1/5\n",
      "6000/6000 [==============================] - 20s 3ms/step - loss: 0.5955 - auc: 0.6980 - acc: 0.6970\n",
      "Epoch 2/5\n",
      "6000/6000 [==============================] - 18s 3ms/step - loss: 0.5454 - auc: 0.7486 - acc: 0.7337\n",
      "Epoch 3/5\n",
      "6000/6000 [==============================] - 18s 3ms/step - loss: 0.5217 - auc: 0.7701 - acc: 0.7538\n",
      "Epoch 4/5\n",
      "6000/6000 [==============================] - 18s 3ms/step - loss: 0.5043 - auc: 0.7864 - acc: 0.7670\n",
      "Epoch 5/5\n",
      "6000/6000 [==============================] - 20s 3ms/step - loss: 0.5075 - auc: 0.7934 - acc: 0.7647\n"
     ]
    },
    {
     "data": {
      "text/plain": [
       "<keras.callbacks.History at 0x1a44df82e8>"
      ]
     },
     "execution_count": 69,
     "metadata": {},
     "output_type": "execute_result"
    }
   ],
   "source": [
    "out.fit(X, Y, batch_size=32, epochs=5)"
   ]
  },
  {
   "cell_type": "markdown",
   "metadata": {},
   "source": [
    "Import the validation images"
   ]
  },
  {
   "cell_type": "code",
   "execution_count": 29,
   "metadata": {},
   "outputs": [],
   "source": [
    "val_csv_x = '/Users/joelpersson/Documents/GitHub/CS229A/Data/val_images.csv'\n",
    "val_csv_y = '/Users/joelpersson/Documents/GitHub//CS229A/Data/val_labels.csv'\n",
    "\n",
    "X_val, Y_val = pp.load_XY(val_csv_x, val_csv_y)"
   ]
  },
  {
   "cell_type": "markdown",
   "metadata": {},
   "source": [
    "Evaluate the model on the validation set"
   ]
  },
  {
   "cell_type": "code",
   "execution_count": 70,
   "metadata": {},
   "outputs": [
    {
     "name": "stdout",
     "output_type": "stream",
     "text": [
      "2000/2000 [==============================] - 2s 1ms/step\n",
      "Validation AUROC: 0.7963987121582031\n",
      "Validation accuracy: 0.7295\n"
     ]
    }
   ],
   "source": [
    "val_loss, val_auc, val_acc = out.evaluate(X_val, Y_val)\n",
    "\n",
    "print('Validation AUROC:', val_auc)\n",
    "print('Validation accuracy:', val_acc)"
   ]
  },
  {
   "cell_type": "code",
   "execution_count": null,
   "metadata": {},
   "outputs": [],
   "source": []
  },
  {
   "cell_type": "code",
   "execution_count": null,
   "metadata": {},
   "outputs": [],
   "source": []
  }
 ],
 "metadata": {
  "kernelspec": {
   "display_name": "Python 3",
   "language": "python",
   "name": "python3"
  },
  "language_info": {
   "codemirror_mode": {
    "name": "ipython",
    "version": 3
   },
   "file_extension": ".py",
   "mimetype": "text/x-python",
   "name": "python",
   "nbconvert_exporter": "python",
   "pygments_lexer": "ipython3",
   "version": "3.6.4"
  }
 },
 "nbformat": 4,
 "nbformat_minor": 2
}
