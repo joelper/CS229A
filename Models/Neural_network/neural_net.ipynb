{
 "cells": [
  {
   "cell_type": "code",
   "execution_count": 5,
   "metadata": {},
   "outputs": [],
   "source": [
    "import sys\n",
    "import os\n",
    "\n",
    "module_path = os.path.abspath(os.path.join(os.pardir, os.pardir))\n",
    "if module_path not in sys.path:\n",
    "    sys.path.append(module_path)"
   ]
  },
  {
   "cell_type": "code",
   "execution_count": 6,
   "metadata": {},
   "outputs": [],
   "source": [
    "import Preprocessing.preprocessing as pp\n",
    "import numpy as np\n",
    "from sklearn.linear_model import LogisticRegression\n",
    "import matplotlib.pyplot as plt\n",
    "import pylab\n",
    "import math\n",
    "import Preprocessing.image_processing as ip\n",
    "import sklearn.metrics as metrics\n",
    "from sklearn import preprocessing"
   ]
  },
  {
   "cell_type": "code",
   "execution_count": 3,
   "metadata": {},
   "outputs": [
    {
     "name": "stderr",
     "output_type": "stream",
     "text": [
      "Using TensorFlow backend.\n"
     ]
    }
   ],
   "source": [
    "import tensorflow as tf\n",
    "import keras as ks"
   ]
  },
  {
   "cell_type": "markdown",
   "metadata": {},
   "source": [
    "# 96x96"
   ]
  },
  {
   "cell_type": "markdown",
   "metadata": {},
   "source": [
    "Import the data"
   ]
  },
  {
   "cell_type": "code",
   "execution_count": 7,
   "metadata": {},
   "outputs": [],
   "source": [
    "train_csv_x = '/Users/joelpersson/Documents/GitHub/CS229A/Data/train_images.csv'\n",
    "train_csv_y = '/Users/joelpersson/Documents/GitHub//CS229A/Data/train_labels.csv'\n",
    "\n",
    "X, Y = pp.load_XY(train_csv_x, train_csv_y)"
   ]
  },
  {
   "cell_type": "markdown",
   "metadata": {},
   "source": [
    "Import the validation data"
   ]
  },
  {
   "cell_type": "code",
   "execution_count": null,
   "metadata": {},
   "outputs": [],
   "source": [
    "val_csv_x = '/Users/joelpersson/Documents/GitHub/CS229A/Data/val_images.csv'\n",
    "val_csv_y = '/Users/joelpersson/Documents/GitHub/CS229A/Data/val_labels.csv'\n",
    "\n",
    "X_val, Y_val = pp.load_XY(val_csv_x, val_csv_y)"
   ]
  },
  {
   "cell_type": "markdown",
   "metadata": {},
   "source": [
    "Build the neural net"
   ]
  },
  {
   "cell_type": "code",
   "execution_count": 693,
   "metadata": {},
   "outputs": [],
   "source": [
    "# Define the neural network\n",
    "def neural_net_binary(n_hidden_1, n_hidden_2, n_hidden_3):\n",
    "    # Build the model\n",
    "    model = ks.Sequential()\n",
    "    # Normalize the input\n",
    "    model.add(ks.layers.BatchNormalization())\n",
    "    # Add hidden layers\n",
    "    model.add(ks.layers.Dense(n_hidden_1, activation='sigmoid'))\n",
    "#     model.add(ks.layers.Dense(n_hidden_2, activation='relu'))\n",
    "#     model.add(ks.layers.Dense(n_hidden_3, activation='sigmoid'))\n",
    "    # Add output node\n",
    "    model.add(ks.layers.Dense(1, activation='sigmoid'))\n",
    "    \n",
    "    return model"
   ]
  },
  {
   "cell_type": "markdown",
   "metadata": {},
   "source": [
    "Define the layer structure"
   ]
  },
  {
   "cell_type": "code",
   "execution_count": 694,
   "metadata": {},
   "outputs": [],
   "source": [
    "out = neural_net_binary(128, 8, 8)"
   ]
  },
  {
   "cell_type": "markdown",
   "metadata": {},
   "source": [
    "Define optimizer, loss and evaluation metric"
   ]
  },
  {
   "cell_type": "code",
   "execution_count": 690,
   "metadata": {},
   "outputs": [],
   "source": [
    "out.compile(optimizer='adam', \n",
    "              loss='binary_crossentropy',\n",
    "              metrics=['accuracy'])"
   ]
  },
  {
   "cell_type": "markdown",
   "metadata": {},
   "source": [
    "Train the model"
   ]
  },
  {
   "cell_type": "code",
   "execution_count": 691,
   "metadata": {
    "scrolled": true
   },
   "outputs": [
    {
     "name": "stdout",
     "output_type": "stream",
     "text": [
      "Epoch 1/5\n",
      "6000/6000 [==============================] - 26s 4ms/step - loss: 0.5980 - acc: 0.6883\n",
      "Epoch 2/5\n",
      "6000/6000 [==============================] - 7s 1ms/step - loss: 0.5492 - acc: 0.7463\n",
      "Epoch 3/5\n",
      "6000/6000 [==============================] - 7s 1ms/step - loss: 0.5297 - acc: 0.7570\n",
      "Epoch 4/5\n",
      "6000/6000 [==============================] - 7s 1ms/step - loss: 0.5080 - acc: 0.7725\n",
      "Epoch 5/5\n",
      "6000/6000 [==============================] - 6s 1ms/step - loss: 0.4876 - acc: 0.7872\n"
     ]
    },
    {
     "data": {
      "text/plain": [
       "<keras.callbacks.History at 0x1c440e50f0>"
      ]
     },
     "execution_count": 691,
     "metadata": {},
     "output_type": "execute_result"
    }
   ],
   "source": [
    "out.fit(X, Y, batch_size=32, epochs=5)"
   ]
  },
  {
   "cell_type": "markdown",
   "metadata": {},
   "source": [
    "Evaluate the model on the training set"
   ]
  },
  {
   "cell_type": "code",
   "execution_count": 692,
   "metadata": {},
   "outputs": [
    {
     "name": "stdout",
     "output_type": "stream",
     "text": [
      "6000/6000 [==============================] - 9s 1ms/step\n",
      "Training AUROC: 0.8805937993236665\n",
      "Training accuracy: 0.825\n"
     ]
    }
   ],
   "source": [
    "loss, acc = out.evaluate(X, Y)\n",
    "proba = out.predict(X)\n",
    "auc = metrics.roc_auc_score(Y, proba)\n",
    "\n",
    "print('Training AUROC:', auc)\n",
    "print('Training accuracy:', acc)"
   ]
  },
  {
   "cell_type": "markdown",
   "metadata": {},
   "source": [
    "Evaluate the model on the validation set"
   ]
  },
  {
   "cell_type": "code",
   "execution_count": 687,
   "metadata": {},
   "outputs": [
    {
     "name": "stdout",
     "output_type": "stream",
     "text": [
      "2000/2000 [==============================] - 3s 1ms/step\n",
      "Validation AUROC: 0.7816660262814109\n",
      "Validation accuracy: 0.7245\n"
     ]
    }
   ],
   "source": [
    "val_loss, val_acc = out.evaluate(X_val, Y_val)\n",
    "val_proba = out.predict(X_val)\n",
    "val_auc = metrics.roc_auc_score(Y_val, val_proba)\n",
    "\n",
    "print('Validation AUROC:', val_auc)\n",
    "print('Validation accuracy:', val_acc)"
   ]
  },
  {
   "cell_type": "markdown",
   "metadata": {},
   "source": [
    "Network structures tested and their performance:\n",
    "\n",
    "| Test | Auroc |Accuracy |#Epochs |#Layers | Activation 1 | Nodes 1 |Activation 2 | Nodes 2 |Activation 3 | Nodes 3| Notes\n",
    "|--------------------|------|-------|---------|\n",
    "| #1                 | 0.794  | 0.747 | 5    | 2    | Sigmoid   | 128   | Sigmoid   | 128    |\n",
    "| #2                 | 0.787  | 0.741 | 5    | 2    | Sigmoid   | 128   | Sigmoid   | 64     |\n",
    "| #3                 | 0.795  | 0.732 | 5    | 2    | Sigmoid   | 64    | Sigmoid   | 64     |\n",
    "| #4                 | 0.768  | 0.719 | 5    | 2    | Sigmoid   | 256   | Sigmoid   | 64     |\n",
    "| #5                 | 0.777  | 0.725 | 5    | 2    | Sigmoid   | 256   | Sigmoid   | 128    |\n",
    "| #6                 | 0.785  | 0.734 | 5    | 2    | Sigmoid   | 32    | Sigmoid   | 16     |\n",
    "| #7                 | 0.796  | 0.742 | 10   | 2    | Sigmoid   | 32    | Sigmoid   | 16     |\n",
    "| #8                 | 0.759  | 0.713 | 30   | 2    | Sigmoid   | 32    | Sigmoid   | 16     |\n",
    "| #9                 | 0.755  | 0.713 | 30   | 2    | Sigmoid   | 128   | Sigmoid   | 64     |\n",
    "| #10                | 0.763  | 0.701 | 10   | 2    | Sigmoid   | 128   | Sigmoid   | 64     |\n",
    "| #11                | 0.772  | 0.707 | 10   | 2    | Sigmoid   | 64    | Sigmoid   | 64     |\n",
    "| #12                | 0.787  | 0.731 | 5    | 2    | Sigmoid   | 16    | Sigmoid   | 16     | Sigmoid   | 16    \n",
    "| #13                | 0.794  | 0.742 | 10   | 2    | Sigmoid   | 16    | Sigmoid   | 16     | Sigmoid   | 16    \n",
    "| #14                | 0.794  | 0.730 | 30   | 2    | Sigmoid   | 16    | Sigmoid   | 16     | Sigmoid   | 16    \n",
    "| #15                | 0.788  | 0.722 | 5    | 2    | Sigmoid   | 32    | Sigmoid   | 16     | Sigmoid   | 8    \n",
    "| #16                | 0.779  | 0.733 | 5    | 2    | Relu      | 16    | Relu      | 16     | Sigmoid   | 16   \n",
    "| #17                | 0.794  | 0.732 | 5    | 2    | Relu      | 16    | Relu      | 8      | Sigmoid   | 8   \n",
    "| #18                | 0.749  | 0.721 | 10   | 2    | Relu      | 16    | Relu      | 8      | Sigmoid   | 8   \n",
    "| #19                | 0.761  | 0.723 | 5    | 2    | Relu      | 16    | Relu      | 8      | Sigmoid   | 4   \n",
    "| #20                | 0.768  | 0.724 | 5    | 2    | Relu      | 64    | Relu      | 64     | Sigmoid   | 64 \n",
    "| #21                | 0.714  | 0.681 | 15   | 2    | Relu      | 64    | Relu      | 64     | Sigmoid   | 64 \n",
    "| #22                | 0.766  | 0.732 | 5    | 2    | Relu      | 64    | Relu      | 32     | Sigmoid   | 32 \n",
    "| #23                | 0.791  | 0.733 | 5    | 2    | Relu      | 64    | Relu      | 32     | Sigmoid   | 16 \n",
    "| #24                | 0.780  | 0.732 | 10   | 2    | Relu      | 64    | Relu      | 32     | Sigmoid   | 16 \n",
    "| #25                | 0.780  | 0.739 | 5    | 2    | Sigmoid   | 4     | | | | | Reg: 0.0001\n",
    "| #26                | 0.786  | 0.727 | 5    | 2    | Sigmoid   | 8     | | | | | Reg: 0.0001\n",
    "| #27                | 0.794  | 0.733 | 5    | 2    | Sigmoid   | 16    | | | | | Reg: 0.0001\n",
    "| #28                | 0.785  | 0.731 | 5    | 2    | Sigmoid   | 32    | | | | | Reg: 0.0001\n",
    "| #29                | 0.789  | 0.722 | 5    | 2    | Sigmoid   | 64    | | | | | Reg: 0.0001\n",
    "| #30                | 0.798  | 0.737 | 5    | 2    | Sigmoid   | 128   | | | | | Reg: 0.0001\n",
    "| #31                | 0.779  | 0.716 | 5    | 2    | Sigmoid   | 256   | | | | | Reg: 0.0001\n",
    "| #32                | 0.768  | 0.686 | 5    | 2    | Sigmoid   | 4     | | | | | Reg: 0.01\n",
    "| #33                | 0.778  | 0.735 | 5    | 2    | Sigmoid   | 8     | | | | | Reg: 0.01\n",
    "| #34                | 0.785  | 0.732 | 5    | 2    | Sigmoid   | 16    | | | | | Reg: 0.01\n",
    "| #35                | 0.762  | 0.719 | 5    | 2    | Sigmoid   | 32    | | | | | Reg: 0.01\n",
    "| #36                | 0.775  | 0.708 | 5    | 2    | Sigmoid   | 64    | | | | | Reg: 0.01\n",
    "| #37                | 0.746  | 0.701 | 5    | 2    | Sigmoid   | 128   | | | | | Reg: 0.01\n",
    "| #38                | 0.769  | 0.729 | 5    | 2    | Sigmoid   | 256   | | | | | Reg: 0.01\n",
    "| #39                | 0.751  | 0.706 | 10   | 2    | Sigmoid   | 4     | | | | | Reg: 0.01\n",
    "| #40                | 0.767  | 0.718 | 10   | 2    | Sigmoid   | 8     | | | | | Reg: 0.01\n",
    "| #41                | 0.768  | 0.688 | 10   | 2    | Sigmoid   | 16    | | | | | Reg: 0.01\n",
    "| #42                | 0.765  | 0.717 | 10   | 2    | Sigmoid   | 32    | | | | | Reg: 0.01\n",
    "| #43                | 0.772  | 0.703 | 10   | 2    | Sigmoid   | 64    | | | | | Reg: 0.01\n",
    "| #44                | 0.754  | 0.724 | 10   | 2    | Sigmoid   | 128   | | | | | Reg: 0.01\n",
    "| #45                | 0.773  | 0.718 | 10   | 2    | Sigmoid   | 256   | | | | | Reg: 0.01"
   ]
  },
  {
   "cell_type": "markdown",
   "metadata": {},
   "source": [
    "# 32x32\n",
    "Start by cropping out the center"
   ]
  },
  {
   "cell_type": "code",
   "execution_count": 317,
   "metadata": {},
   "outputs": [],
   "source": [
    "n = 32\n",
    "X_32 = np.zeros((X.shape[0], n*n*3))\n",
    "X_val_32 = np.zeros((X_val.shape[0], n*n*3))\n",
    "\n",
    "for i in range(X.shape[0]):\n",
    "    X_32[i] = ip.crop_center(X[i,:], (96,96,3), 32)\n",
    "\n",
    "for j in range(X_val.shape[0]):\n",
    "    X_val_32[j] = ip.crop_center(X_val[j,:], (96,96,3), 32)"
   ]
  },
  {
   "cell_type": "markdown",
   "metadata": {},
   "source": [
    "Define the neural network structure"
   ]
  },
  {
   "cell_type": "code",
   "execution_count": 641,
   "metadata": {},
   "outputs": [],
   "source": [
    "# Define the neural network\n",
    "def neural_net_binary_32(n_hidden_1, n_hidden_2, n_hidden_3):\n",
    "    # Build the model\n",
    "    model = ks.Sequential()\n",
    "    # Normalize the input\n",
    "    model.add(ks.layers.BatchNormalization())\n",
    "    # Add hidden layers\n",
    "    model.add(ks.layers.Dense(n_hidden_1, activation='selu', kernel_regularizer=ks.regularizers.l2(0.0003)))\n",
    "    model.add(ks.layers.Dense(n_hidden_2, activation='sigmoid', kernel_regularizer=ks.regularizers.l2(0.0001)))\n",
    "#     model.add(ks.layers.Dense(n_hidden_3, activation='tanh'))\n",
    "    # Add output node\n",
    "    model.add(ks.layers.Dense(1, activation='sigmoid'))\n",
    "    \n",
    "    return model"
   ]
  },
  {
   "cell_type": "code",
   "execution_count": 642,
   "metadata": {
    "scrolled": true
   },
   "outputs": [
    {
     "name": "stdout",
     "output_type": "stream",
     "text": [
      "Epoch 1/5\n",
      "6000/6000 [==============================] - 11s 2ms/step - loss: 0.6566 - acc: 0.6762\n",
      "Epoch 2/5\n",
      "6000/6000 [==============================] - 2s 280us/step - loss: 0.5947 - acc: 0.7248\n",
      "Epoch 3/5\n",
      "6000/6000 [==============================] - 2s 282us/step - loss: 0.5666 - acc: 0.7482\n",
      "Epoch 4/5\n",
      "6000/6000 [==============================] - 2s 289us/step - loss: 0.5430 - acc: 0.7660\n",
      "Epoch 5/5\n",
      "6000/6000 [==============================] - 2s 285us/step - loss: 0.5210 - acc: 0.7895\n"
     ]
    },
    {
     "data": {
      "text/plain": [
       "<keras.callbacks.History at 0x1c2e6dda58>"
      ]
     },
     "execution_count": 642,
     "metadata": {},
     "output_type": "execute_result"
    }
   ],
   "source": [
    "out_32 = neural_net_binary_32(64, 16, 32)\n",
    "\n",
    "out_32.compile(optimizer='adam', \n",
    "              loss='binary_crossentropy',\n",
    "              metrics=['accuracy'])\n",
    "\n",
    "out_32.fit(X_32, Y, batch_size=32, epochs=5)"
   ]
  },
  {
   "cell_type": "code",
   "execution_count": 643,
   "metadata": {},
   "outputs": [
    {
     "name": "stdout",
     "output_type": "stream",
     "text": [
      "2000/2000 [==============================] - 4s 2ms/step\n",
      "Validation AUROC: 0.7790056097748407\n",
      "Validation accuracy: 0.719\n"
     ]
    }
   ],
   "source": [
    "val_32_loss, val_32_acc = out_32.evaluate(X_val_32, Y_val)\n",
    "val_32_proba = out_32.predict(X_val_32)\n",
    "val_32_auc = metrics.roc_auc_score(Y_val, val_32_proba)\n",
    "\n",
    "print('Validation AUROC:', val_32_auc)\n",
    "print('Validation accuracy:', val_32_acc)"
   ]
  },
  {
   "cell_type": "markdown",
   "metadata": {},
   "source": [
    "## Error Analysis"
   ]
  },
  {
   "cell_type": "code",
   "execution_count": null,
   "metadata": {},
   "outputs": [],
   "source": [
    "out = neural_net_binary(128, 8, 8)"
   ]
  },
  {
   "cell_type": "code",
   "execution_count": 695,
   "metadata": {
    "scrolled": true
   },
   "outputs": [
    {
     "name": "stdout",
     "output_type": "stream",
     "text": [
      "Epoch 1/5\n",
      "200/200 [==============================] - 16s 78ms/step - loss: 1.2595 - acc: 0.4550\n",
      "Epoch 2/5\n",
      "200/200 [==============================] - 0s 2ms/step - loss: 0.7319 - acc: 0.6650\n",
      "Epoch 3/5\n",
      "200/200 [==============================] - 0s 2ms/step - loss: 0.5353 - acc: 0.6350\n",
      "Epoch 4/5\n",
      "200/200 [==============================] - 0s 2ms/step - loss: 0.4707 - acc: 0.7650\n",
      "Epoch 5/5\n",
      "200/200 [==============================] - 0s 2ms/step - loss: 0.4292 - acc: 0.8100\n",
      "Epoch 1/5\n",
      "400/400 [==============================] - 12s 31ms/step - loss: 2.4844 - acc: 0.4975\n",
      "Epoch 2/5\n",
      "400/400 [==============================] - 1s 2ms/step - loss: 1.0485 - acc: 0.5425\n",
      "Epoch 3/5\n",
      "400/400 [==============================] - 1s 2ms/step - loss: 0.6203 - acc: 0.6975\n",
      "Epoch 4/5\n",
      "400/400 [==============================] - 1s 2ms/step - loss: 0.5412 - acc: 0.7400\n",
      "Epoch 5/5\n",
      "400/400 [==============================] - 1s 2ms/step - loss: 0.5098 - acc: 0.7750\n",
      "Epoch 1/5\n",
      "600/600 [==============================] - 13s 21ms/step - loss: 1.0979 - acc: 0.5850\n",
      "Epoch 2/5\n",
      "600/600 [==============================] - 1s 2ms/step - loss: 0.5997 - acc: 0.7017\n",
      "Epoch 3/5\n",
      "600/600 [==============================] - 1s 2ms/step - loss: 0.5468 - acc: 0.7383\n",
      "Epoch 4/5\n",
      "600/600 [==============================] - 2s 3ms/step - loss: 0.5056 - acc: 0.7617\n",
      "Epoch 5/5\n",
      "600/600 [==============================] - 1s 2ms/step - loss: 0.4686 - acc: 0.7967\n",
      "Epoch 1/5\n",
      "800/800 [==============================] - 13s 17ms/step - loss: 0.7283 - acc: 0.6112\n",
      "Epoch 2/5\n",
      "800/800 [==============================] - 2s 3ms/step - loss: 0.5734 - acc: 0.6938\n",
      "Epoch 3/5\n",
      "800/800 [==============================] - 2s 3ms/step - loss: 0.4989 - acc: 0.7650\n",
      "Epoch 4/5\n",
      "800/800 [==============================] - 2s 2ms/step - loss: 0.4687 - acc: 0.7787\n",
      "Epoch 5/5\n",
      "800/800 [==============================] - 2s 2ms/step - loss: 0.4261 - acc: 0.8113\n",
      "Epoch 1/5\n",
      "1000/1000 [==============================] - 14s 14ms/step - loss: 0.8995 - acc: 0.6140\n",
      "Epoch 2/5\n",
      "1000/1000 [==============================] - 3s 3ms/step - loss: 0.5712 - acc: 0.6980\n",
      "Epoch 3/5\n",
      "1000/1000 [==============================] - 3s 3ms/step - loss: 0.5205 - acc: 0.7380\n",
      "Epoch 4/5\n",
      "1000/1000 [==============================] - 3s 3ms/step - loss: 0.4853 - acc: 0.7730\n",
      "Epoch 5/5\n",
      "1000/1000 [==============================] - 3s 3ms/step - loss: 0.4361 - acc: 0.8170\n",
      "Epoch 1/5\n",
      "1200/1200 [==============================] - 15s 12ms/step - loss: 0.7326 - acc: 0.6550\n",
      "Epoch 2/5\n",
      "1200/1200 [==============================] - 3s 2ms/step - loss: 0.5648 - acc: 0.6967\n",
      "Epoch 3/5\n",
      "1200/1200 [==============================] - 3s 2ms/step - loss: 0.5064 - acc: 0.7600\n",
      "Epoch 4/5\n",
      "1200/1200 [==============================] - 3s 3ms/step - loss: 0.4527 - acc: 0.7992\n",
      "Epoch 5/5\n",
      "1200/1200 [==============================] - 3s 2ms/step - loss: 0.4103 - acc: 0.8200\n",
      "Epoch 1/5\n",
      "1400/1400 [==============================] - 14s 10ms/step - loss: 0.9447 - acc: 0.5957\n",
      "Epoch 2/5\n",
      "1400/1400 [==============================] - 3s 2ms/step - loss: 0.5921 - acc: 0.6943\n",
      "Epoch 3/5\n",
      "1400/1400 [==============================] - 3s 2ms/step - loss: 0.5440 - acc: 0.7479\n",
      "Epoch 4/5\n",
      "1400/1400 [==============================] - 3s 2ms/step - loss: 0.5019 - acc: 0.7729\n",
      "Epoch 5/5\n",
      "1400/1400 [==============================] - 3s 2ms/step - loss: 0.4660 - acc: 0.8014\n",
      "Epoch 1/5\n",
      "1600/1600 [==============================] - 16s 10ms/step - loss: 0.7066 - acc: 0.6344\n",
      "Epoch 2/5\n",
      "1600/1600 [==============================] - 4s 2ms/step - loss: 0.5478 - acc: 0.7488\n",
      "Epoch 3/5\n",
      "1600/1600 [==============================] - 4s 2ms/step - loss: 0.4788 - acc: 0.7875\n",
      "Epoch 4/5\n",
      "1600/1600 [==============================] - 4s 2ms/step - loss: 0.4380 - acc: 0.8000\n",
      "Epoch 5/5\n",
      "1600/1600 [==============================] - 4s 2ms/step - loss: 0.3940 - acc: 0.8350\n",
      "Epoch 1/5\n",
      "1800/1800 [==============================] - 16s 9ms/step - loss: 0.6820 - acc: 0.6511\n",
      "Epoch 2/5\n",
      "1800/1800 [==============================] - 5s 3ms/step - loss: 0.5181 - acc: 0.7589\n",
      "Epoch 3/5\n",
      "1800/1800 [==============================] - 4s 2ms/step - loss: 0.4824 - acc: 0.7867\n",
      "Epoch 4/5\n",
      "1800/1800 [==============================] - 5s 3ms/step - loss: 0.4205 - acc: 0.8222\n",
      "Epoch 5/5\n",
      "1800/1800 [==============================] - 4s 2ms/step - loss: 0.4098 - acc: 0.8189\n",
      "Epoch 1/5\n",
      "2000/2000 [==============================] - 16s 8ms/step - loss: 0.6920 - acc: 0.6575\n",
      "Epoch 2/5\n",
      "2000/2000 [==============================] - 4s 2ms/step - loss: 0.5561 - acc: 0.7400\n",
      "Epoch 3/5\n",
      "2000/2000 [==============================] - 4s 2ms/step - loss: 0.4921 - acc: 0.7705\n",
      "Epoch 4/5\n",
      "2000/2000 [==============================] - 4s 2ms/step - loss: 0.4687 - acc: 0.7870\n",
      "Epoch 5/5\n",
      "2000/2000 [==============================] - 4s 2ms/step - loss: 0.4266 - acc: 0.8135\n",
      "Epoch 1/5\n",
      "2200/2200 [==============================] - 17s 8ms/step - loss: 0.8839 - acc: 0.6395\n",
      "Epoch 2/5\n",
      "2200/2200 [==============================] - 5s 2ms/step - loss: 0.5487 - acc: 0.7373\n",
      "Epoch 3/5\n",
      "2200/2200 [==============================] - 5s 2ms/step - loss: 0.5059 - acc: 0.7641\n",
      "Epoch 4/5\n",
      "2200/2200 [==============================] - 5s 2ms/step - loss: 0.4784 - acc: 0.7823\n",
      "Epoch 5/5\n",
      "2200/2200 [==============================] - 5s 2ms/step - loss: 0.4469 - acc: 0.8009\n",
      "Epoch 1/5\n",
      "2400/2400 [==============================] - 24s 10ms/step - loss: 0.6678 - acc: 0.6704\n",
      "Epoch 2/5\n",
      "2400/2400 [==============================] - 6s 2ms/step - loss: 0.5174 - acc: 0.7512\n",
      "Epoch 3/5\n",
      "2400/2400 [==============================] - 5s 2ms/step - loss: 0.4670 - acc: 0.7987\n",
      "Epoch 4/5\n",
      "2400/2400 [==============================] - 5s 2ms/step - loss: 0.4310 - acc: 0.8146\n",
      "Epoch 5/5\n",
      "2400/2400 [==============================] - 6s 2ms/step - loss: 0.4271 - acc: 0.8171\n",
      "Epoch 1/5\n",
      "2600/2600 [==============================] - 19s 7ms/step - loss: 0.7490 - acc: 0.6477\n",
      "Epoch 2/5\n",
      "2600/2600 [==============================] - 7s 3ms/step - loss: 0.5744 - acc: 0.7154\n",
      "Epoch 3/5\n",
      "2600/2600 [==============================] - 7s 3ms/step - loss: 0.5257 - acc: 0.7477\n",
      "Epoch 4/5\n",
      "2600/2600 [==============================] - 6s 2ms/step - loss: 0.4794 - acc: 0.7827\n",
      "Epoch 5/5\n",
      "2600/2600 [==============================] - 6s 2ms/step - loss: 0.4542 - acc: 0.7977\n",
      "Epoch 1/5\n",
      "2800/2800 [==============================] - 18s 7ms/step - loss: 0.6840 - acc: 0.6554\n",
      "Epoch 2/5\n",
      "2800/2800 [==============================] - 6s 2ms/step - loss: 0.5440 - acc: 0.7457\n",
      "Epoch 3/5\n",
      "2800/2800 [==============================] - 6s 2ms/step - loss: 0.4872 - acc: 0.7764\n",
      "Epoch 4/5\n",
      "2800/2800 [==============================] - 7s 2ms/step - loss: 0.4664 - acc: 0.7918\n",
      "Epoch 5/5\n",
      "2800/2800 [==============================] - 7s 2ms/step - loss: 0.4357 - acc: 0.8129\n",
      "Epoch 1/5\n",
      "3000/3000 [==============================] - 20s 7ms/step - loss: 1.5802 - acc: 0.5553\n",
      "Epoch 2/5\n",
      "3000/3000 [==============================] - 6s 2ms/step - loss: 0.6224 - acc: 0.6913\n",
      "Epoch 3/5\n",
      "3000/3000 [==============================] - 6s 2ms/step - loss: 0.5639 - acc: 0.7303\n",
      "Epoch 4/5\n",
      "3000/3000 [==============================] - 6s 2ms/step - loss: 0.5215 - acc: 0.7533\n",
      "Epoch 5/5\n",
      "3000/3000 [==============================] - 6s 2ms/step - loss: 0.4884 - acc: 0.7783\n",
      "Epoch 1/5\n",
      "3200/3200 [==============================] - 28s 9ms/step - loss: 0.6561 - acc: 0.6762\n",
      "Epoch 2/5\n",
      "3200/3200 [==============================] - 7s 2ms/step - loss: 0.5385 - acc: 0.7444\n",
      "Epoch 3/5\n",
      "3200/3200 [==============================] - 7s 2ms/step - loss: 0.4857 - acc: 0.7869\n",
      "Epoch 4/5\n",
      "3200/3200 [==============================] - 7s 2ms/step - loss: 0.4694 - acc: 0.7897\n",
      "Epoch 5/5\n",
      "3200/3200 [==============================] - 7s 2ms/step - loss: 0.4427 - acc: 0.8050\n",
      "Epoch 1/5\n",
      "3400/3400 [==============================] - 19s 6ms/step - loss: 0.7852 - acc: 0.6103\n",
      "Epoch 2/5\n",
      "3400/3400 [==============================] - 7s 2ms/step - loss: 0.5722 - acc: 0.7200\n",
      "Epoch 3/5\n",
      "3400/3400 [==============================] - 7s 2ms/step - loss: 0.5222 - acc: 0.7547\n",
      "Epoch 4/5\n",
      "3400/3400 [==============================] - 7s 2ms/step - loss: 0.4846 - acc: 0.7729\n",
      "Epoch 5/5\n",
      "3400/3400 [==============================] - 7s 2ms/step - loss: 0.4539 - acc: 0.7956\n",
      "Epoch 1/5\n"
     ]
    },
    {
     "name": "stdout",
     "output_type": "stream",
     "text": [
      "3600/3600 [==============================] - 23s 6ms/step - loss: 0.6739 - acc: 0.6497\n",
      "Epoch 2/5\n",
      "3600/3600 [==============================] - 8s 2ms/step - loss: 0.5472 - acc: 0.7325\n",
      "Epoch 3/5\n",
      "3600/3600 [==============================] - 8s 2ms/step - loss: 0.5030 - acc: 0.7644\n",
      "Epoch 4/5\n",
      "3600/3600 [==============================] - 7s 2ms/step - loss: 0.4648 - acc: 0.7922\n",
      "Epoch 5/5\n",
      "3600/3600 [==============================] - 7s 2ms/step - loss: 0.4414 - acc: 0.8058\n",
      "Epoch 1/5\n",
      "3800/3800 [==============================] - 20s 5ms/step - loss: 1.4149 - acc: 0.5621\n",
      "Epoch 2/5\n",
      "3800/3800 [==============================] - 8s 2ms/step - loss: 0.5968 - acc: 0.6992\n",
      "Epoch 3/5\n",
      "3800/3800 [==============================] - 9s 2ms/step - loss: 0.5455 - acc: 0.7439\n",
      "Epoch 4/5\n",
      "3800/3800 [==============================] - 8s 2ms/step - loss: 0.5109 - acc: 0.7629\n",
      "Epoch 5/5\n",
      "3800/3800 [==============================] - 8s 2ms/step - loss: 0.4898 - acc: 0.7787\n",
      "Epoch 1/5\n",
      "4000/4000 [==============================] - 21s 5ms/step - loss: 0.6891 - acc: 0.6707\n",
      "Epoch 2/5\n",
      "4000/4000 [==============================] - 8s 2ms/step - loss: 0.5477 - acc: 0.7400\n",
      "Epoch 3/5\n",
      "4000/4000 [==============================] - 8s 2ms/step - loss: 0.5022 - acc: 0.7668\n",
      "Epoch 4/5\n",
      "4000/4000 [==============================] - 9s 2ms/step - loss: 0.4780 - acc: 0.7883\n",
      "Epoch 5/5\n",
      "4000/4000 [==============================] - 10s 2ms/step - loss: 0.4518 - acc: 0.8003\n",
      "Epoch 1/5\n",
      "4200/4200 [==============================] - 21s 5ms/step - loss: 0.6895 - acc: 0.6412\n",
      "Epoch 2/5\n",
      "4200/4200 [==============================] - 10s 2ms/step - loss: 0.5653 - acc: 0.7202\n",
      "Epoch 3/5\n",
      "4200/4200 [==============================] - 9s 2ms/step - loss: 0.5107 - acc: 0.7660\n",
      "Epoch 4/5\n",
      "4200/4200 [==============================] - 9s 2ms/step - loss: 0.4863 - acc: 0.7814\n",
      "Epoch 5/5\n",
      "4200/4200 [==============================] - 9s 2ms/step - loss: 0.4644 - acc: 0.7936\n",
      "Epoch 1/5\n",
      "4400/4400 [==============================] - 25s 6ms/step - loss: 0.6525 - acc: 0.6648\n",
      "Epoch 2/5\n",
      "4400/4400 [==============================] - 9s 2ms/step - loss: 0.5313 - acc: 0.7439\n",
      "Epoch 3/5\n",
      "4400/4400 [==============================] - 9s 2ms/step - loss: 0.4928 - acc: 0.7732\n",
      "Epoch 4/5\n",
      "4400/4400 [==============================] - 11s 3ms/step - loss: 0.4740 - acc: 0.7798\n",
      "Epoch 5/5\n",
      "4400/4400 [==============================] - 10s 2ms/step - loss: 0.4534 - acc: 0.7905\n",
      "Epoch 1/5\n",
      "4600/4600 [==============================] - 22s 5ms/step - loss: 0.6585 - acc: 0.6709\n",
      "Epoch 2/5\n",
      "4600/4600 [==============================] - 10s 2ms/step - loss: 0.5450 - acc: 0.7300\n",
      "Epoch 3/5\n",
      "4600/4600 [==============================] - 11s 2ms/step - loss: 0.5087 - acc: 0.7626\n",
      "Epoch 4/5\n",
      "4600/4600 [==============================] - 10s 2ms/step - loss: 0.4861 - acc: 0.7763\n",
      "Epoch 5/5\n",
      "4600/4600 [==============================] - 10s 2ms/step - loss: 0.4592 - acc: 0.7900\n",
      "Epoch 1/5\n",
      "4800/4800 [==============================] - 25s 5ms/step - loss: 0.6688 - acc: 0.6735\n",
      "Epoch 2/5\n",
      "4800/4800 [==============================] - 12s 2ms/step - loss: 0.5402 - acc: 0.7348\n",
      "Epoch 3/5\n",
      "4800/4800 [==============================] - 11s 2ms/step - loss: 0.5043 - acc: 0.7683\n",
      "Epoch 4/5\n",
      "4800/4800 [==============================] - 10s 2ms/step - loss: 0.4760 - acc: 0.7788\n",
      "Epoch 5/5\n",
      "4800/4800 [==============================] - 10s 2ms/step - loss: 0.4569 - acc: 0.7942\n",
      "Epoch 1/5\n",
      "5000/5000 [==============================] - 24s 5ms/step - loss: 1.1002 - acc: 0.6010\n",
      "Epoch 2/5\n",
      "5000/5000 [==============================] - 11s 2ms/step - loss: 0.5731 - acc: 0.7188\n",
      "Epoch 3/5\n",
      "5000/5000 [==============================] - 11s 2ms/step - loss: 0.5325 - acc: 0.7448\n",
      "Epoch 4/5\n",
      "5000/5000 [==============================] - 11s 2ms/step - loss: 0.5129 - acc: 0.7616\n",
      "Epoch 5/5\n",
      "5000/5000 [==============================] - 10s 2ms/step - loss: 0.4911 - acc: 0.7726\n",
      "Epoch 1/5\n",
      "5200/5200 [==============================] - 25s 5ms/step - loss: 0.8649 - acc: 0.6365\n",
      "Epoch 2/5\n",
      "5200/5200 [==============================] - 11s 2ms/step - loss: 0.5510 - acc: 0.7329\n",
      "Epoch 3/5\n",
      "5200/5200 [==============================] - 11s 2ms/step - loss: 0.5194 - acc: 0.7535\n",
      "Epoch 4/5\n",
      "5200/5200 [==============================] - 11s 2ms/step - loss: 0.4856 - acc: 0.7735\n",
      "Epoch 5/5\n",
      "5200/5200 [==============================] - 16s 3ms/step - loss: 0.4706 - acc: 0.7835\n",
      "Epoch 1/5\n",
      "5400/5400 [==============================] - 28s 5ms/step - loss: 0.7354 - acc: 0.6537\n",
      "Epoch 2/5\n",
      "5400/5400 [==============================] - 12s 2ms/step - loss: 0.5475 - acc: 0.7389\n",
      "Epoch 3/5\n",
      "5400/5400 [==============================] - 19s 4ms/step - loss: 0.5133 - acc: 0.7574\n",
      "Epoch 4/5\n",
      "5400/5400 [==============================] - 16s 3ms/step - loss: 0.4936 - acc: 0.7678\n",
      "Epoch 5/5\n",
      "5400/5400 [==============================] - 12s 2ms/step - loss: 0.4701 - acc: 0.7835\n",
      "Epoch 1/5\n",
      "5600/5600 [==============================] - 41s 7ms/step - loss: 0.6355 - acc: 0.6941\n",
      "Epoch 2/5\n",
      "5600/5600 [==============================] - 13s 2ms/step - loss: 0.5359 - acc: 0.7432\n",
      "Epoch 3/5\n",
      "5600/5600 [==============================] - 13s 2ms/step - loss: 0.4989 - acc: 0.7664\n",
      "Epoch 4/5\n",
      "5600/5600 [==============================] - 13s 2ms/step - loss: 0.4738 - acc: 0.7895\n",
      "Epoch 5/5\n",
      "5600/5600 [==============================] - 13s 2ms/step - loss: 0.4583 - acc: 0.7945\n",
      "Epoch 1/5\n",
      "5800/5800 [==============================] - 27s 5ms/step - loss: 0.6566 - acc: 0.6655\n",
      "Epoch 2/5\n",
      "5800/5800 [==============================] - 14s 2ms/step - loss: 0.5470 - acc: 0.7364\n",
      "Epoch 3/5\n",
      "5800/5800 [==============================] - 15s 3ms/step - loss: 0.5124 - acc: 0.7579\n",
      "Epoch 4/5\n",
      "5800/5800 [==============================] - 14s 2ms/step - loss: 0.4914 - acc: 0.7728\n",
      "Epoch 5/5\n",
      "5800/5800 [==============================] - 14s 2ms/step - loss: 0.4720 - acc: 0.7874\n",
      "Epoch 1/5\n",
      "6000/6000 [==============================] - 26s 4ms/step - loss: 0.6796 - acc: 0.6628\n",
      "Epoch 2/5\n",
      "6000/6000 [==============================] - 13s 2ms/step - loss: 0.5453 - acc: 0.7293\n",
      "Epoch 3/5\n",
      "6000/6000 [==============================] - 12s 2ms/step - loss: 0.5154 - acc: 0.7587\n",
      "Epoch 4/5\n",
      "6000/6000 [==============================] - 13s 2ms/step - loss: 0.4936 - acc: 0.7705\n",
      "Epoch 5/5\n",
      "6000/6000 [==============================] - 13s 2ms/step - loss: 0.4745 - acc: 0.7807\n",
      "Epoch 1/5\n",
      "6000/6000 [==============================] - 30s 5ms/step - loss: 0.7722 - acc: 0.6408\n",
      "Epoch 2/5\n",
      "6000/6000 [==============================] - 13s 2ms/step - loss: 0.5577 - acc: 0.7277\n",
      "Epoch 3/5\n",
      "6000/6000 [==============================] - 13s 2ms/step - loss: 0.5268 - acc: 0.7455\n",
      "Epoch 4/5\n",
      "6000/6000 [==============================] - 13s 2ms/step - loss: 0.4949 - acc: 0.7722\n",
      "Epoch 5/5\n",
      "6000/6000 [==============================] - 13s 2ms/step - loss: 0.4799 - acc: 0.7802\n"
     ]
    }
   ],
   "source": [
    "auc_train = []\n",
    "auc_val = []\n",
    "for i in range(200,X.shape[0]+201, 200):\n",
    "    out_ea = neural_net_binary(128, 8, 8)\n",
    "    out_ea.compile(optimizer='adam', \n",
    "              loss='binary_crossentropy',\n",
    "              metrics=['accuracy'])\n",
    "    out_ea.fit(X[:i], Y[:i], batch_size=32, epochs=5)\n",
    "    \n",
    "    proba = out_ea.predict(X[:i])\n",
    "    auc_train.append(metrics.roc_auc_score(Y[:i], proba))\n",
    "    \n",
    "    val_proba = out_ea.predict(X_val)\n",
    "    auc_val.append(metrics.roc_auc_score(Y_val, val_proba))"
   ]
  },
  {
   "cell_type": "code",
   "execution_count": 697,
   "metadata": {},
   "outputs": [
    {
     "data": {
      "image/png": "[encoded data removed]",
      "text/plain": [
       "<matplotlib.figure.Figure at 0x1c7e9b6400>"
      ]
     },
     "metadata": {},
     "output_type": "display_data"
    }
   ],
   "source": [
    "training_sizes = np.arange(200,X.shape[0]+201, 200)\n",
    "\n",
    "plt.title('AUROC vs training size')\n",
    "plt.plot(training_sizes, np.array(auc_train),'r')\n",
    "plt.plot(training_sizes, np.array(auc_val), 'b')\n",
    "plt.axis([0,6000, 0.5, 1.0])\n",
    "plt.show()"
   ]
  },
  {
   "cell_type": "code",
   "execution_count": null,
   "metadata": {},
   "outputs": [],
   "source": []
  }
 ],
 "metadata": {
  "kernelspec": {
   "display_name": "Python 3",
   "language": "python",
   "name": "python3"
  },
  "language_info": {
   "codemirror_mode": {
    "name": "ipython",
    "version": 3
   },
   "file_extension": ".py",
   "mimetype": "text/x-python",
   "name": "python",
   "nbconvert_exporter": "python",
   "pygments_lexer": "ipython3",
   "version": "3.6.4"
  }
 },
 "nbformat": 4,
 "nbformat_minor": 2
}
