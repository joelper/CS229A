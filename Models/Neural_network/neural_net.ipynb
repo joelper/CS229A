{
 "cells": [
  {
   "cell_type": "code",
   "execution_count": 5,
   "metadata": {},
   "outputs": [],
   "source": [
    "import sys\n",
    "import os\n",
    "\n",
    "module_path = os.path.abspath(os.path.join(os.pardir, os.pardir))\n",
    "if module_path not in sys.path:\n",
    "    sys.path.append(module_path)"
   ]
  },
  {
   "cell_type": "code",
   "execution_count": 6,
   "metadata": {},
   "outputs": [],
   "source": [
    "import Preprocessing.preprocessing as pp\n",
    "import numpy as np\n",
    "from sklearn.linear_model import LogisticRegression\n",
    "import matplotlib.pyplot as plt\n",
    "import pylab\n",
    "import math\n",
    "import Preprocessing.image_processing as ip\n",
    "import sklearn.metrics as metrics\n",
    "from sklearn import preprocessing"
   ]
  },
  {
   "cell_type": "code",
   "execution_count": 3,
   "metadata": {},
   "outputs": [
    {
     "name": "stderr",
     "output_type": "stream",
     "text": [
      "Using TensorFlow backend.\n"
     ]
    }
   ],
   "source": [
    "import tensorflow as tf\n",
    "import keras as ks"
   ]
  },
  {
   "cell_type": "markdown",
   "metadata": {},
   "source": [
    "# 96x96"
   ]
  },
  {
   "cell_type": "markdown",
   "metadata": {},
   "source": [
    "Import the data"
   ]
  },
  {
   "cell_type": "code",
   "execution_count": 7,
   "metadata": {},
   "outputs": [],
   "source": [
    "train_csv_x = '/Users/joelpersson/Documents/GitHub/CS229A/Data/train_images.csv'\n",
    "train_csv_y = '/Users/joelpersson/Documents/GitHub//CS229A/Data/train_labels.csv'\n",
    "\n",
    "X, Y = pp.load_XY(train_csv_x, train_csv_y)"
   ]
  },
  {
   "cell_type": "markdown",
   "metadata": {},
   "source": [
    "Import the validation data"
   ]
  },
  {
   "cell_type": "code",
   "execution_count": null,
   "metadata": {},
   "outputs": [],
   "source": [
    "val_csv_x = '/Users/joelpersson/Documents/GitHub/CS229A/Data/val_images.csv'\n",
    "val_csv_y = '/Users/joelpersson/Documents/GitHub/CS229A/Data/val_labels.csv'\n",
    "\n",
    "X_val, Y_val = pp.load_XY(val_csv_x, val_csv_y)"
   ]
  },
  {
   "cell_type": "markdown",
   "metadata": {},
   "source": [
    "Build the neural net"
   ]
  },
  {
   "cell_type": "code",
   "execution_count": 622,
   "metadata": {},
   "outputs": [],
   "source": [
    "# Define the neural network\n",
    "def neural_net_binary(n_hidden_1, n_hidden_2, n_hidden_3):\n",
    "    # Build the model\n",
    "    model = ks.Sequential()\n",
    "    # Normalize the input\n",
    "    model.add(ks.layers.BatchNormalization())\n",
    "    # Add hidden layers\n",
    "    model.add(ks.layers.Dense(n_hidden_1, input_dim=96*96*3, activation='relu',kernel_regularizer=ks.regularizers.l1(0.000001)))\n",
    "#     model.add(ks.layers.Dense(n_hidden_2, activation='relu', kernel_regularizer=ks.regularizers.l2(0.001)))\n",
    "#     model.add(ks.layers.Dense(n_hidden_3, activation='tanh'))\n",
    "    # Add output node\n",
    "    model.add(ks.layers.Dense(1, activation='sigmoid'))\n",
    "    \n",
    "    return model"
   ]
  },
  {
   "cell_type": "markdown",
   "metadata": {},
   "source": [
    "Define the layer structure"
   ]
  },
  {
   "cell_type": "code",
   "execution_count": 623,
   "metadata": {},
   "outputs": [],
   "source": [
    "out = neural_net_binary(128, 32, 8)"
   ]
  },
  {
   "cell_type": "markdown",
   "metadata": {},
   "source": [
    "Define optimizer, loss and evaluation metric"
   ]
  },
  {
   "cell_type": "code",
   "execution_count": 624,
   "metadata": {},
   "outputs": [],
   "source": [
    "out.compile(optimizer='adam', \n",
    "              loss='binary_crossentropy',\n",
    "              metrics=['accuracy'])"
   ]
  },
  {
   "cell_type": "markdown",
   "metadata": {},
   "source": [
    "Train the model"
   ]
  },
  {
   "cell_type": "code",
   "execution_count": 625,
   "metadata": {
    "scrolled": true
   },
   "outputs": [
    {
     "name": "stdout",
     "output_type": "stream",
     "text": [
      "Epoch 1/5\n",
      "6000/6000 [==============================] - 28s 5ms/step - loss: 5.9768 - acc: 0.6008\n",
      "Epoch 2/5\n",
      "6000/6000 [==============================] - 14s 2ms/step - loss: 4.4529 - acc: 0.6818\n",
      "Epoch 3/5\n",
      "6000/6000 [==============================] - 13s 2ms/step - loss: 2.9048 - acc: 0.7295\n",
      "Epoch 4/5\n",
      "6000/6000 [==============================] - 13s 2ms/step - loss: 2.5329 - acc: 0.7622\n",
      "Epoch 5/5\n",
      "6000/6000 [==============================] - 13s 2ms/step - loss: 2.2704 - acc: 0.7762\n"
     ]
    },
    {
     "data": {
      "text/plain": [
       "<keras.callbacks.History at 0x1c1e701ef0>"
      ]
     },
     "execution_count": 625,
     "metadata": {},
     "output_type": "execute_result"
    }
   ],
   "source": [
    "out.fit(X, Y, batch_size=32, epochs=5)"
   ]
  },
  {
   "cell_type": "markdown",
   "metadata": {},
   "source": [
    "Evaluate the model on the validation set"
   ]
  },
  {
   "cell_type": "code",
   "execution_count": 626,
   "metadata": {},
   "outputs": [
    {
     "name": "stdout",
     "output_type": "stream",
     "text": [
      "2000/2000 [==============================] - 7s 3ms/step\n",
      "Validation AUROC: 0.7487343425804964\n",
      "Validation accuracy: 0.732\n"
     ]
    }
   ],
   "source": [
    "val_loss, val_acc = out.evaluate(X_val, y_val)\n",
    "val_proba = out.predict(X_val)\n",
    "val_auc = metrics.roc_auc_score(y_val, val_proba)\n",
    "\n",
    "print('Validation AUROC:', val_auc)\n",
    "print('Validation accuracy:', val_acc)"
   ]
  },
  {
   "cell_type": "markdown",
   "metadata": {},
   "source": [
    "Network structures tested and their performance:\n",
    "\n",
    "| Test | Auroc |Accuracy |#Epochs |#Layers | Activation 1 | Nodes 1 |Activation 2 | Nodes 2 |Activation 3 | Nodes 3| Notes\n",
    "|--------------------|------|-------|---------|\n",
    "| #1                 | 0.794  | 0.747 | 5    | 2    | Sigmoid   | 128   | Sigmoid   | 128    |\n",
    "| #2                 | 0.787  | 0.741 | 5    | 2    | Sigmoid   | 128   | Sigmoid   | 64     |\n",
    "| #3                 | 0.795  | 0.732 | 5    | 2    | Sigmoid   | 64    | Sigmoid   | 64     |\n",
    "| #4                 | 0.768  | 0.719 | 5    | 2    | Sigmoid   | 256   | Sigmoid   | 64     |\n",
    "| #5                 | 0.777  | 0.725 | 5    | 2    | Sigmoid   | 256   | Sigmoid   | 128    |\n",
    "| #6                 | 0.785  | 0.734 | 5    | 2    | Sigmoid   | 32    | Sigmoid   | 16     |\n",
    "| #7                 | 0.796  | 0.742 | 10   | 2    | Sigmoid   | 32    | Sigmoid   | 16     |\n",
    "| #8                 | 0.759  | 0.713 | 30   | 2    | Sigmoid   | 32    | Sigmoid   | 16     |\n",
    "| #9                 | 0.755  | 0.713 | 30   | 2    | Sigmoid   | 128   | Sigmoid   | 64     |\n",
    "| #10                | 0.763  | 0.701 | 10   | 2    | Sigmoid   | 128   | Sigmoid   | 64     |\n",
    "| #11                | 0.772  | 0.707 | 10   | 2    | Sigmoid   | 64    | Sigmoid   | 64     |\n",
    "| #12                | 0.787  | 0.731 | 5    | 2    | Sigmoid   | 16    | Sigmoid   | 16     | Sigmoid   | 16    \n",
    "| #13                | 0.794  | 0.742 | 10   | 2    | Sigmoid   | 16    | Sigmoid   | 16     | Sigmoid   | 16    \n",
    "| #14                | 0.794  | 0.730 | 30   | 2    | Sigmoid   | 16    | Sigmoid   | 16     | Sigmoid   | 16    \n",
    "| #15                | 0.788  | 0.722 | 5    | 2    | Sigmoid   | 32    | Sigmoid   | 16     | Sigmoid   | 8    \n",
    "| #16                | 0.779  | 0.733 | 5    | 2    | Relu      | 16    | Relu      | 16     | Sigmoid   | 16   \n",
    "| #17                | 0.794  | 0.732 | 5    | 2    | Relu      | 16    | Relu      | 8      | Sigmoid   | 8   \n",
    "| #18                | 0.749  | 0.721 | 10   | 2    | Relu      | 16    | Relu      | 8      | Sigmoid   | 8   \n",
    "| #19                | 0.761  | 0.723 | 5    | 2    | Relu      | 16    | Relu      | 8      | Sigmoid   | 4   \n",
    "| #20                | 0.768  | 0.724 | 5    | 2    | Relu      | 64    | Relu      | 64     | Sigmoid   | 64 \n",
    "| #21                | 0.714  | 0.681 | 15   | 2    | Relu      | 64    | Relu      | 64     | Sigmoid   | 64 \n",
    "| #22                | 0.766  | 0.732 | 5    | 2    | Relu      | 64    | Relu      | 32     | Sigmoid   | 32 \n",
    "| #23                | 0.791  | 0.733 | 5    | 2    | Relu      | 64    | Relu      | 32     | Sigmoid   | 16 \n",
    "| #24                | 0.780  | 0.732 | 10   | 2    | Relu      | 64    | Relu      | 32     | Sigmoid   | 16 \n",
    "| #25                | 0.780  | 0.739 | 5    | 2    | Sigmoid   | 4     | | | | | Reg: 0.0001\n",
    "| #26                | 0.786  | 0.727 | 5    | 2    | Sigmoid   | 8     | | | | | Reg: 0.0001\n",
    "| #27                | 0.794  | 0.733 | 5    | 2    | Sigmoid   | 16    | | | | | Reg: 0.0001\n",
    "| #28                | 0.785  | 0.731 | 5    | 2    | Sigmoid   | 32    | | | | | Reg: 0.0001\n",
    "| #29                | 0.789  | 0.722 | 5    | 2    | Sigmoid   | 64    | | | | | Reg: 0.0001\n",
    "| #30                | 0.798  | 0.737 | 5    | 2    | Sigmoid   | 128   | | | | | Reg: 0.0001\n",
    "| #31                | 0.779  | 0.716 | 5    | 2    | Sigmoid   | 256   | | | | | Reg: 0.0001\n",
    "| #32                | 0.768  | 0.686 | 5    | 2    | Sigmoid   | 4     | | | | | Reg: 0.01\n",
    "| #33                | 0.778  | 0.735 | 5    | 2    | Sigmoid   | 8     | | | | | Reg: 0.01\n",
    "| #34                | 0.785  | 0.732 | 5    | 2    | Sigmoid   | 16    | | | | | Reg: 0.01\n",
    "| #35                | 0.762  | 0.719 | 5    | 2    | Sigmoid   | 32    | | | | | Reg: 0.01\n",
    "| #36                | 0.775  | 0.708 | 5    | 2    | Sigmoid   | 64    | | | | | Reg: 0.01\n",
    "| #37                | 0.746  | 0.701 | 5    | 2    | Sigmoid   | 128   | | | | | Reg: 0.01\n",
    "| #38                | 0.769  | 0.729 | 5    | 2    | Sigmoid   | 256   | | | | | Reg: 0.01\n",
    "| #39                | 0.751  | 0.706 | 10   | 2    | Sigmoid   | 4     | | | | | Reg: 0.01\n",
    "| #40                | 0.767  | 0.718 | 10   | 2    | Sigmoid   | 8     | | | | | Reg: 0.01\n",
    "| #41                | 0.768  | 0.688 | 10   | 2    | Sigmoid   | 16    | | | | | Reg: 0.01\n",
    "| #42                | 0.765  | 0.717 | 10   | 2    | Sigmoid   | 32    | | | | | Reg: 0.01\n",
    "| #43                | 0.772  | 0.703 | 10   | 2    | Sigmoid   | 64    | | | | | Reg: 0.01\n",
    "| #44                | 0.754  | 0.724 | 10   | 2    | Sigmoid   | 128   | | | | | Reg: 0.01\n",
    "| #45                | 0.773  | 0.718 | 10   | 2    | Sigmoid   | 256   | | | | | Reg: 0.01"
   ]
  },
  {
   "cell_type": "markdown",
   "metadata": {},
   "source": [
    "# 32x32\n",
    "Start by cropping out the center"
   ]
  },
  {
   "cell_type": "code",
   "execution_count": 317,
   "metadata": {},
   "outputs": [],
   "source": [
    "n = 32\n",
    "X_32 = np.zeros((X.shape[0], n*n*3))\n",
    "X_val_32 = np.zeros((X_val.shape[0], n*n*3))\n",
    "\n",
    "for i in range(X.shape[0]):\n",
    "    X_32[i] = ip.crop_center(X[i,:], (96,96,3), 32)\n",
    "\n",
    "for j in range(X_val.shape[0]):\n",
    "    X_val_32[j] = ip.crop_center(X_val[j,:], (96,96,3), 32)"
   ]
  },
  {
   "cell_type": "markdown",
   "metadata": {},
   "source": [
    "Define the neural network structure"
   ]
  },
  {
   "cell_type": "code",
   "execution_count": 641,
   "metadata": {},
   "outputs": [],
   "source": [
    "# Define the neural network\n",
    "def neural_net_binary_32(n_hidden_1, n_hidden_2, n_hidden_3):\n",
    "    # Build the model\n",
    "    model = ks.Sequential()\n",
    "    # Normalize the input\n",
    "    model.add(ks.layers.BatchNormalization())\n",
    "    # Add hidden layers\n",
    "    model.add(ks.layers.Dense(n_hidden_1, activation='selu', kernel_regularizer=ks.regularizers.l2(0.0003)))\n",
    "    model.add(ks.layers.Dense(n_hidden_2, activation='sigmoid', kernel_regularizer=ks.regularizers.l2(0.0001)))\n",
    "#     model.add(ks.layers.Dense(n_hidden_3, activation='tanh'))\n",
    "    # Add output node\n",
    "    model.add(ks.layers.Dense(1, activation='sigmoid'))\n",
    "    \n",
    "    return model"
   ]
  },
  {
   "cell_type": "code",
   "execution_count": 642,
   "metadata": {
    "scrolled": true
   },
   "outputs": [
    {
     "name": "stdout",
     "output_type": "stream",
     "text": [
      "Epoch 1/5\n",
      "6000/6000 [==============================] - 11s 2ms/step - loss: 0.6566 - acc: 0.6762\n",
      "Epoch 2/5\n",
      "6000/6000 [==============================] - 2s 280us/step - loss: 0.5947 - acc: 0.7248\n",
      "Epoch 3/5\n",
      "6000/6000 [==============================] - 2s 282us/step - loss: 0.5666 - acc: 0.7482\n",
      "Epoch 4/5\n",
      "6000/6000 [==============================] - 2s 289us/step - loss: 0.5430 - acc: 0.7660\n",
      "Epoch 5/5\n",
      "6000/6000 [==============================] - 2s 285us/step - loss: 0.5210 - acc: 0.7895\n"
     ]
    },
    {
     "data": {
      "text/plain": [
       "<keras.callbacks.History at 0x1c2e6dda58>"
      ]
     },
     "execution_count": 642,
     "metadata": {},
     "output_type": "execute_result"
    }
   ],
   "source": [
    "out_32 = neural_net_binary_32(64, 16, 32)\n",
    "\n",
    "out_32.compile(optimizer='adam', \n",
    "              loss='binary_crossentropy',\n",
    "              metrics=['accuracy'])\n",
    "\n",
    "out_32.fit(X_32, Y, batch_size=32, epochs=5)"
   ]
  },
  {
   "cell_type": "code",
   "execution_count": 643,
   "metadata": {},
   "outputs": [
    {
     "name": "stdout",
     "output_type": "stream",
     "text": [
      "2000/2000 [==============================] - 4s 2ms/step\n",
      "Validation AUROC: 0.7790056097748407\n",
      "Validation accuracy: 0.719\n"
     ]
    }
   ],
   "source": [
    "val_32_loss, val_32_acc = out_32.evaluate(X_val_32, Y_val)\n",
    "val_32_proba = out_32.predict(X_val_32)\n",
    "val_32_auc = metrics.roc_auc_score(Y_val, val_32_proba)\n",
    "\n",
    "print('Validation AUROC:', val_32_auc)\n",
    "print('Validation accuracy:', val_32_acc)"
   ]
  },
  {
   "cell_type": "code",
   "execution_count": null,
   "metadata": {},
   "outputs": [],
   "source": []
  }
 ],
 "metadata": {
  "kernelspec": {
   "display_name": "Python 3",
   "language": "python",
   "name": "python3"
  },
  "language_info": {
   "codemirror_mode": {
    "name": "ipython",
    "version": 3
   },
   "file_extension": ".py",
   "mimetype": "text/x-python",
   "name": "python",
   "nbconvert_exporter": "python",
   "pygments_lexer": "ipython3",
   "version": "3.6.4"
  }
 },
 "nbformat": 4,
 "nbformat_minor": 2
}
