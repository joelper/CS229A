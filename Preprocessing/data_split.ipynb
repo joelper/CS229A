{
 "cells": [
  {
   "cell_type": "code",
   "execution_count": 24,
   "metadata": {},
   "outputs": [],
   "source": [
    "import numpy as np\n",
    "import pandas as pd\n",
    "from shutil import copy2\n",
    "import os"
   ]
  },
  {
   "cell_type": "code",
   "execution_count": 3,
   "metadata": {},
   "outputs": [],
   "source": [
    "filename = '/Users/joelpersson/Documents/GitHub/CS229A/Data/train_labels.csv' # filename of csv with train labels\n",
    "df = pd.read_csv(filename)"
   ]
  },
  {
   "cell_type": "code",
   "execution_count": 29,
   "metadata": {},
   "outputs": [],
   "source": [
    "n = 10000\n",
    "sample_data = df.sample(n) # sample n data points from the labels"
   ]
  },
  {
   "cell_type": "code",
   "execution_count": 30,
   "metadata": {},
   "outputs": [],
   "source": [
    "train_frac = 0.6\n",
    "train_data = sample_data[:int(train_frac*len(sample_data))]"
   ]
  },
  {
   "cell_type": "code",
   "execution_count": 31,
   "metadata": {},
   "outputs": [],
   "source": [
    "val_frac = 0.2\n",
    "val_data = sample_data[len(train_data):int((train_frac + val_frac)*len(sample_data))]"
   ]
  },
  {
   "cell_type": "code",
   "execution_count": 32,
   "metadata": {},
   "outputs": [],
   "source": [
    "test_data = sample_data[int((train_frac + val_frac)*len(sample_data)):]"
   ]
  },
  {
   "cell_type": "code",
   "execution_count": 37,
   "metadata": {},
   "outputs": [],
   "source": [
    "for name in train_data.id:\n",
    "    copy2('/Users/joelpersson/Documents/GitHub/CS229A/Data/train/{}.tif'.format(name), '/Users/joelpersson/Documents/GitHub/CS229A/Data/train2')"
   ]
  },
  {
   "cell_type": "code",
   "execution_count": 35,
   "metadata": {},
   "outputs": [],
   "source": [
    "for name in val_data.id:\n",
    "    copy2('/Users/joelpersson/Documents/GitHub/CS229A/Data/train/{}.tif'.format(name), '/Users/joelpersson/Documents/GitHub/CS229A/Data/val')"
   ]
  },
  {
   "cell_type": "code",
   "execution_count": 36,
   "metadata": {},
   "outputs": [],
   "source": [
    "for name in test_data.id:\n",
    "    copy2('/Users/joelpersson/Documents/GitHub/CS229A/Data/train/{}.tif'.format(name), '/Users/joelpersson/Documents/GitHub/CS229A/Data/test')"
   ]
  },
  {
   "cell_type": "code",
   "execution_count": 41,
   "metadata": {},
   "outputs": [],
   "source": [
    "train_data.to_csv(\"train2_labels.csv\")\n",
    "val_data.to_csv(\"val_labels.csv\")\n",
    "test_data.to_csv(\"test_labels.csv\")"
   ]
  },
  {
   "cell_type": "code",
   "execution_count": null,
   "metadata": {},
   "outputs": [],
   "source": []
  },
  {
   "cell_type": "code",
   "execution_count": null,
   "metadata": {},
   "outputs": [],
   "source": []
  }
 ],
 "metadata": {
  "kernelspec": {
   "display_name": "Python 3",
   "language": "python",
   "name": "python3"
  },
  "language_info": {
   "codemirror_mode": {
    "name": "ipython",
    "version": 3
   },
   "file_extension": ".py",
   "mimetype": "text/x-python",
   "name": "python",
   "nbconvert_exporter": "python",
   "pygments_lexer": "ipython3",
   "version": "3.6.4"
  }
 },
 "nbformat": 4,
 "nbformat_minor": 2
}
